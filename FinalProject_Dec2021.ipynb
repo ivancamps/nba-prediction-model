{
  "nbformat": 4,
  "nbformat_minor": 0,
  "metadata": {
    "colab": {
      "provenance": [],
      "collapsed_sections": [],
      "toc_visible": true
    },
    "kernelspec": {
      "name": "python3",
      "display_name": "Python 3"
    },
    "language_info": {
      "name": "python"
    }
  },
  "cells": [
    {
      "cell_type": "markdown",
      "source": [
        "# **Predicting NBA Game Outcomes with Machine Learning based on Team Performance Metrics**"
      ],
      "metadata": {
        "id": "1BEe5yMhvstO"
      }
    },
    {
      "cell_type": "markdown",
      "source": [
        "Authors: Jesse Neiman, Ivan Camps"
      ],
      "metadata": {
        "id": "yY5UqNMYkIjV"
      }
    },
    {
      "cell_type": "markdown",
      "source": [
        "# Part 1: Introduction and Background"
      ],
      "metadata": {
        "id": "A9mlMxIJsIH4"
      }
    },
    {
      "cell_type": "markdown",
      "source": [
        "\n",
        "\n",
        "Throughout this past semester we had the opportunity to explore a variety of machine learning processes and their various use cases in predictive analysis using large data sets. When deciding on our motivation with respect to this project our group decided to couple our interest in predicting sports outcomes with the subject matter learned throughout this course. At first, we considered the possibility of predicting the expected values of player strategies given their performance in last seasons. However, our trajectory quickly changed on the night before the proposal for this project was due when Iván and I were settling down to watch the Bulls, who at the time were off to an unexpectedly hot start, play the Laker super team that was not living up to expectations. After discussing which team would be best to bet on, we were wishing that we had more insight beyond that of other analysts. It was not long before we decided to pivot and plan to make our machine learning model a project that we could use not only to demonstrate what we have learned throughout the semester, but a project that would hopefully aid us in our sports betting endeavors in the future. The steps that we took in completing this project are as follows:\n",
        "\n",
        "1. **Selecting our dataset:** In selecting our data set, we wanted to make sure that we had a sufficient sample size of past games that contained a prolific assortment of game-specific data which we could then use to construct more complex feature variables. The data set that we found to best fit our needs for this project was published a month ago on Kaggle by Nathan Lauga. The game data is current and appropriately organized to complement our next steps and overall objective.\n",
        "1. **Cleaning our dataset:** We decided on the appropriate metrics that would best suit our models and which we could remove. The metrics we decided on were primarily pertinent to the overall team performance in percentage of field goal, free throw, and three point shots made by the home and away teams respectively.  \n",
        "1. **Feature Engineering:** After our data was cleaned appropriately, we used the relevant features given to create moving averages for each over a 10-game window to best represent the state of the team at the time rather than extrapolating game outcomes using outdated team data from years past. We are focused on the trends in team shot performance, not historical outcomes. \n",
        "4. **Data exploration:** Our assumptions alone on the suspected improved accuracy of our features would not suffice. We must explore whether there is underlying bias or cases of multi-collinearity among our features before we move on to our predictions.\n",
        "5. **Model building:** After deeming our data to be acceptable, we moved forward in applying the following machine learning methods: . The question is, which will prove to be the most accurate?\n",
        "\n",
        "Let’s dive into each of these steps a bit further…\n"
      ],
      "metadata": {
        "id": "ybvyBp9EFgej"
      }
    },
    {
      "cell_type": "markdown",
      "source": [
        "# Part 2: Data Loading and Cleaning"
      ],
      "metadata": {
        "id": "Cp5eEY2VsV4H"
      }
    },
    {
      "cell_type": "markdown",
      "source": [
        "## 2.1. Initialization and imports"
      ],
      "metadata": {
        "id": "eoDWa9vPscOx"
      }
    },
    {
      "cell_type": "markdown",
      "source": [
        "Typical Package Installation:"
      ],
      "metadata": {
        "id": "DVdzDGQYHuXF"
      }
    },
    {
      "cell_type": "code",
      "metadata": {
        "id": "5ZbNxmklckIa"
      },
      "source": [
        "# Sklearn and Pandas Setup\n",
        "import pandas as pd\n",
        "if pd.__version__ != '1.1.5':\n",
        "  !pip install pandas==1.1.5\n",
        "import numpy as np \n",
        "import json\n",
        "import matplotlib\n",
        "import matplotlib.pyplot as plt\n",
        "from matplotlib import cm\n",
        "from datetime import datetime\n",
        "import glob\n",
        "import seaborn as sns\n",
        "import re\n",
        "import os\n",
        "import io \n",
        "import requests"
      ],
      "execution_count": 3,
      "outputs": []
    },
    {
      "cell_type": "code",
      "source": [
        "import warnings\n",
        "warnings.filterwarnings(\"ignore\")"
      ],
      "metadata": {
        "id": "6txBiLFsMTAb"
      },
      "execution_count": 4,
      "outputs": []
    },
    {
      "cell_type": "markdown",
      "source": [
        "## 2.2. Loading Data"
      ],
      "metadata": {
        "id": "mDB_Pu_bsmZv"
      }
    },
    {
      "cell_type": "markdown",
      "source": [
        "First, we import the GoogleDriveDownloader package so that we, or anyone with this notebook, can upload the CSV files that we saved on our local drives. The data sets that we chose to include contain game outcomes and scoring metrics for both the home and away team with respect to a common “Game ID”, team ranking which keeps a running record of each team’s home, away and overall record during each season, and finally a “teams” data set which we use to better interpret game outcomes. "
      ],
      "metadata": {
        "id": "xdlJALAkH3Wh"
      }
    },
    {
      "cell_type": "code",
      "metadata": {
        "id": "I2lggHKUlQ60"
      },
      "source": [
        "outcomes_url = 'https://raw.githubusercontent.com/ivancamps/nba-prediction-model/main/Game_outcome.csv'\n",
        "outcomes_dl = requests.get(outcomes_url).content\n",
        "\n",
        "ranking_url = 'https://raw.githubusercontent.com/ivancamps/nba-prediction-model/main/ranking.csv'\n",
        "ranking_dl = requests.get(ranking_url).content\n",
        "\n",
        "teams_url = 'https://raw.githubusercontent.com/ivancamps/nba-prediction-model/main/teams.csv'\n",
        "teams_dl = requests.get(teams_url).content"
      ],
      "execution_count": 5,
      "outputs": []
    },
    {
      "cell_type": "code",
      "metadata": {
        "id": "6HCF8UHiqX4r"
      },
      "source": [
        "game_outcome =  pd.read_csv(io.StringIO(outcomes_dl.decode('utf-8')))\n",
        "ranking = pd.read_csv(io.StringIO(ranking_dl.decode('utf-8')))\n",
        "teams = pd.read_csv(io.StringIO(teams_dl.decode('utf-8')))"
      ],
      "execution_count": 6,
      "outputs": []
    },
    {
      "cell_type": "markdown",
      "source": [
        "After we upload each data set, we explore the data type of each variable and give ourselves an visualize the first few rows to make sure that the datasets have been uploaded correctly. "
      ],
      "metadata": {
        "id": "qOwotaLhIDDW"
      }
    },
    {
      "cell_type": "code",
      "metadata": {
        "colab": {
          "base_uri": "https://localhost:8080/"
        },
        "id": "bgNHValYq4gS",
        "outputId": "32789624-43c4-411d-dd3e-6c1a8cf26efd"
      },
      "source": [
        "# Explore game_outcome dataset \n",
        "game_outcome.dtypes"
      ],
      "execution_count": 7,
      "outputs": [
        {
          "output_type": "execute_result",
          "data": {
            "text/plain": [
              "GAME_DATE_EST        object\n",
              "GAME_ID               int64\n",
              "GAME_STATUS_TEXT     object\n",
              "HOME_TEAM_ID          int64\n",
              "VISITOR_TEAM_ID       int64\n",
              "SEASON                int64\n",
              "TEAM_ID_home          int64\n",
              "PTS_home            float64\n",
              "FG_PCT_home         float64\n",
              "FT_PCT_home         float64\n",
              "FG3_PCT_home        float64\n",
              "AST_home            float64\n",
              "REB_home            float64\n",
              "TEAM_ID_away          int64\n",
              "PTS_away            float64\n",
              "FG_PCT_away         float64\n",
              "FT_PCT_away         float64\n",
              "FG3_PCT_away        float64\n",
              "AST_away            float64\n",
              "REB_away            float64\n",
              "HOME_TEAM_WINS        int64\n",
              "dtype: object"
            ]
          },
          "metadata": {},
          "execution_count": 7
        }
      ]
    },
    {
      "cell_type": "code",
      "source": [
        "game_outcome.head(5)"
      ],
      "metadata": {
        "colab": {
          "base_uri": "https://localhost:8080/",
          "height": 236
        },
        "id": "D2yE98ONw19Q",
        "outputId": "f53ee5f1-938a-424e-eae7-2eebc8cad49a"
      },
      "execution_count": 8,
      "outputs": [
        {
          "output_type": "execute_result",
          "data": {
            "text/plain": [
              "  GAME_DATE_EST   GAME_ID GAME_STATUS_TEXT  HOME_TEAM_ID  VISITOR_TEAM_ID  \\\n",
              "0    2021-11-17  22100213            Final    1610612766       1610612764   \n",
              "1    2021-11-17  22100214            Final    1610612765       1610612754   \n",
              "2    2021-11-17  22100215            Final    1610612737       1610612738   \n",
              "3    2021-11-17  22100216            Final    1610612751       1610612739   \n",
              "4    2021-11-17  22100217            Final    1610612748       1610612740   \n",
              "\n",
              "   SEASON  TEAM_ID_home  PTS_home  FG_PCT_home  FT_PCT_home  ...  AST_home  \\\n",
              "0    2021    1610612766      97.0        0.438        0.500  ...      30.0   \n",
              "1    2021    1610612765      97.0        0.425        0.750  ...      16.0   \n",
              "2    2021    1610612737     110.0        0.506        0.833  ...      28.0   \n",
              "3    2021    1610612751     109.0        0.458        0.840  ...      29.0   \n",
              "4    2021    1610612748     113.0        0.483        0.824  ...      29.0   \n",
              "\n",
              "   REB_home  TEAM_ID_away  PTS_away  FG_PCT_away  FT_PCT_away  FG3_PCT_away  \\\n",
              "0      59.0    1610612764      87.0        0.367        0.813         0.190   \n",
              "1      42.0    1610612754      89.0        0.418        0.737         0.243   \n",
              "2      40.0    1610612738      99.0        0.440        0.824         0.268   \n",
              "3      47.0    1610612739      99.0        0.393        0.857         0.250   \n",
              "4      39.0    1610612740      98.0        0.440        0.786         0.286   \n",
              "\n",
              "   AST_away  REB_away  HOME_TEAM_WINS  \n",
              "0      23.0      48.0               1  \n",
              "1      14.0      43.0               1  \n",
              "2      24.0      42.0               1  \n",
              "3      20.0      50.0               1  \n",
              "4      18.0      38.0               1  \n",
              "\n",
              "[5 rows x 21 columns]"
            ],
            "text/html": [
              "\n",
              "  <div id=\"df-5a9b6ede-d13f-4d32-9d80-012957718429\">\n",
              "    <div class=\"colab-df-container\">\n",
              "      <div>\n",
              "<style scoped>\n",
              "    .dataframe tbody tr th:only-of-type {\n",
              "        vertical-align: middle;\n",
              "    }\n",
              "\n",
              "    .dataframe tbody tr th {\n",
              "        vertical-align: top;\n",
              "    }\n",
              "\n",
              "    .dataframe thead th {\n",
              "        text-align: right;\n",
              "    }\n",
              "</style>\n",
              "<table border=\"1\" class=\"dataframe\">\n",
              "  <thead>\n",
              "    <tr style=\"text-align: right;\">\n",
              "      <th></th>\n",
              "      <th>GAME_DATE_EST</th>\n",
              "      <th>GAME_ID</th>\n",
              "      <th>GAME_STATUS_TEXT</th>\n",
              "      <th>HOME_TEAM_ID</th>\n",
              "      <th>VISITOR_TEAM_ID</th>\n",
              "      <th>SEASON</th>\n",
              "      <th>TEAM_ID_home</th>\n",
              "      <th>PTS_home</th>\n",
              "      <th>FG_PCT_home</th>\n",
              "      <th>FT_PCT_home</th>\n",
              "      <th>...</th>\n",
              "      <th>AST_home</th>\n",
              "      <th>REB_home</th>\n",
              "      <th>TEAM_ID_away</th>\n",
              "      <th>PTS_away</th>\n",
              "      <th>FG_PCT_away</th>\n",
              "      <th>FT_PCT_away</th>\n",
              "      <th>FG3_PCT_away</th>\n",
              "      <th>AST_away</th>\n",
              "      <th>REB_away</th>\n",
              "      <th>HOME_TEAM_WINS</th>\n",
              "    </tr>\n",
              "  </thead>\n",
              "  <tbody>\n",
              "    <tr>\n",
              "      <th>0</th>\n",
              "      <td>2021-11-17</td>\n",
              "      <td>22100213</td>\n",
              "      <td>Final</td>\n",
              "      <td>1610612766</td>\n",
              "      <td>1610612764</td>\n",
              "      <td>2021</td>\n",
              "      <td>1610612766</td>\n",
              "      <td>97.0</td>\n",
              "      <td>0.438</td>\n",
              "      <td>0.500</td>\n",
              "      <td>...</td>\n",
              "      <td>30.0</td>\n",
              "      <td>59.0</td>\n",
              "      <td>1610612764</td>\n",
              "      <td>87.0</td>\n",
              "      <td>0.367</td>\n",
              "      <td>0.813</td>\n",
              "      <td>0.190</td>\n",
              "      <td>23.0</td>\n",
              "      <td>48.0</td>\n",
              "      <td>1</td>\n",
              "    </tr>\n",
              "    <tr>\n",
              "      <th>1</th>\n",
              "      <td>2021-11-17</td>\n",
              "      <td>22100214</td>\n",
              "      <td>Final</td>\n",
              "      <td>1610612765</td>\n",
              "      <td>1610612754</td>\n",
              "      <td>2021</td>\n",
              "      <td>1610612765</td>\n",
              "      <td>97.0</td>\n",
              "      <td>0.425</td>\n",
              "      <td>0.750</td>\n",
              "      <td>...</td>\n",
              "      <td>16.0</td>\n",
              "      <td>42.0</td>\n",
              "      <td>1610612754</td>\n",
              "      <td>89.0</td>\n",
              "      <td>0.418</td>\n",
              "      <td>0.737</td>\n",
              "      <td>0.243</td>\n",
              "      <td>14.0</td>\n",
              "      <td>43.0</td>\n",
              "      <td>1</td>\n",
              "    </tr>\n",
              "    <tr>\n",
              "      <th>2</th>\n",
              "      <td>2021-11-17</td>\n",
              "      <td>22100215</td>\n",
              "      <td>Final</td>\n",
              "      <td>1610612737</td>\n",
              "      <td>1610612738</td>\n",
              "      <td>2021</td>\n",
              "      <td>1610612737</td>\n",
              "      <td>110.0</td>\n",
              "      <td>0.506</td>\n",
              "      <td>0.833</td>\n",
              "      <td>...</td>\n",
              "      <td>28.0</td>\n",
              "      <td>40.0</td>\n",
              "      <td>1610612738</td>\n",
              "      <td>99.0</td>\n",
              "      <td>0.440</td>\n",
              "      <td>0.824</td>\n",
              "      <td>0.268</td>\n",
              "      <td>24.0</td>\n",
              "      <td>42.0</td>\n",
              "      <td>1</td>\n",
              "    </tr>\n",
              "    <tr>\n",
              "      <th>3</th>\n",
              "      <td>2021-11-17</td>\n",
              "      <td>22100216</td>\n",
              "      <td>Final</td>\n",
              "      <td>1610612751</td>\n",
              "      <td>1610612739</td>\n",
              "      <td>2021</td>\n",
              "      <td>1610612751</td>\n",
              "      <td>109.0</td>\n",
              "      <td>0.458</td>\n",
              "      <td>0.840</td>\n",
              "      <td>...</td>\n",
              "      <td>29.0</td>\n",
              "      <td>47.0</td>\n",
              "      <td>1610612739</td>\n",
              "      <td>99.0</td>\n",
              "      <td>0.393</td>\n",
              "      <td>0.857</td>\n",
              "      <td>0.250</td>\n",
              "      <td>20.0</td>\n",
              "      <td>50.0</td>\n",
              "      <td>1</td>\n",
              "    </tr>\n",
              "    <tr>\n",
              "      <th>4</th>\n",
              "      <td>2021-11-17</td>\n",
              "      <td>22100217</td>\n",
              "      <td>Final</td>\n",
              "      <td>1610612748</td>\n",
              "      <td>1610612740</td>\n",
              "      <td>2021</td>\n",
              "      <td>1610612748</td>\n",
              "      <td>113.0</td>\n",
              "      <td>0.483</td>\n",
              "      <td>0.824</td>\n",
              "      <td>...</td>\n",
              "      <td>29.0</td>\n",
              "      <td>39.0</td>\n",
              "      <td>1610612740</td>\n",
              "      <td>98.0</td>\n",
              "      <td>0.440</td>\n",
              "      <td>0.786</td>\n",
              "      <td>0.286</td>\n",
              "      <td>18.0</td>\n",
              "      <td>38.0</td>\n",
              "      <td>1</td>\n",
              "    </tr>\n",
              "  </tbody>\n",
              "</table>\n",
              "<p>5 rows × 21 columns</p>\n",
              "</div>\n",
              "      <button class=\"colab-df-convert\" onclick=\"convertToInteractive('df-5a9b6ede-d13f-4d32-9d80-012957718429')\"\n",
              "              title=\"Convert this dataframe to an interactive table.\"\n",
              "              style=\"display:none;\">\n",
              "        \n",
              "  <svg xmlns=\"http://www.w3.org/2000/svg\" height=\"24px\"viewBox=\"0 0 24 24\"\n",
              "       width=\"24px\">\n",
              "    <path d=\"M0 0h24v24H0V0z\" fill=\"none\"/>\n",
              "    <path d=\"M18.56 5.44l.94 2.06.94-2.06 2.06-.94-2.06-.94-.94-2.06-.94 2.06-2.06.94zm-11 1L8.5 8.5l.94-2.06 2.06-.94-2.06-.94L8.5 2.5l-.94 2.06-2.06.94zm10 10l.94 2.06.94-2.06 2.06-.94-2.06-.94-.94-2.06-.94 2.06-2.06.94z\"/><path d=\"M17.41 7.96l-1.37-1.37c-.4-.4-.92-.59-1.43-.59-.52 0-1.04.2-1.43.59L10.3 9.45l-7.72 7.72c-.78.78-.78 2.05 0 2.83L4 21.41c.39.39.9.59 1.41.59.51 0 1.02-.2 1.41-.59l7.78-7.78 2.81-2.81c.8-.78.8-2.07 0-2.86zM5.41 20L4 18.59l7.72-7.72 1.47 1.35L5.41 20z\"/>\n",
              "  </svg>\n",
              "      </button>\n",
              "      \n",
              "  <style>\n",
              "    .colab-df-container {\n",
              "      display:flex;\n",
              "      flex-wrap:wrap;\n",
              "      gap: 12px;\n",
              "    }\n",
              "\n",
              "    .colab-df-convert {\n",
              "      background-color: #E8F0FE;\n",
              "      border: none;\n",
              "      border-radius: 50%;\n",
              "      cursor: pointer;\n",
              "      display: none;\n",
              "      fill: #1967D2;\n",
              "      height: 32px;\n",
              "      padding: 0 0 0 0;\n",
              "      width: 32px;\n",
              "    }\n",
              "\n",
              "    .colab-df-convert:hover {\n",
              "      background-color: #E2EBFA;\n",
              "      box-shadow: 0px 1px 2px rgba(60, 64, 67, 0.3), 0px 1px 3px 1px rgba(60, 64, 67, 0.15);\n",
              "      fill: #174EA6;\n",
              "    }\n",
              "\n",
              "    [theme=dark] .colab-df-convert {\n",
              "      background-color: #3B4455;\n",
              "      fill: #D2E3FC;\n",
              "    }\n",
              "\n",
              "    [theme=dark] .colab-df-convert:hover {\n",
              "      background-color: #434B5C;\n",
              "      box-shadow: 0px 1px 3px 1px rgba(0, 0, 0, 0.15);\n",
              "      filter: drop-shadow(0px 1px 2px rgba(0, 0, 0, 0.3));\n",
              "      fill: #FFFFFF;\n",
              "    }\n",
              "  </style>\n",
              "\n",
              "      <script>\n",
              "        const buttonEl =\n",
              "          document.querySelector('#df-5a9b6ede-d13f-4d32-9d80-012957718429 button.colab-df-convert');\n",
              "        buttonEl.style.display =\n",
              "          google.colab.kernel.accessAllowed ? 'block' : 'none';\n",
              "\n",
              "        async function convertToInteractive(key) {\n",
              "          const element = document.querySelector('#df-5a9b6ede-d13f-4d32-9d80-012957718429');\n",
              "          const dataTable =\n",
              "            await google.colab.kernel.invokeFunction('convertToInteractive',\n",
              "                                                     [key], {});\n",
              "          if (!dataTable) return;\n",
              "\n",
              "          const docLinkHtml = 'Like what you see? Visit the ' +\n",
              "            '<a target=\"_blank\" href=https://colab.research.google.com/notebooks/data_table.ipynb>data table notebook</a>'\n",
              "            + ' to learn more about interactive tables.';\n",
              "          element.innerHTML = '';\n",
              "          dataTable['output_type'] = 'display_data';\n",
              "          await google.colab.output.renderOutput(dataTable, element);\n",
              "          const docLink = document.createElement('div');\n",
              "          docLink.innerHTML = docLinkHtml;\n",
              "          element.appendChild(docLink);\n",
              "        }\n",
              "      </script>\n",
              "    </div>\n",
              "  </div>\n",
              "  "
            ]
          },
          "metadata": {},
          "execution_count": 8
        }
      ]
    },
    {
      "cell_type": "code",
      "metadata": {
        "colab": {
          "base_uri": "https://localhost:8080/"
        },
        "id": "NyF2TWzouLSG",
        "outputId": "f177c403-f12a-4e61-84aa-d7dfda28b0f3"
      },
      "source": [
        "# Explore ranking dataset \n",
        "ranking.dtypes"
      ],
      "execution_count": 9,
      "outputs": [
        {
          "output_type": "execute_result",
          "data": {
            "text/plain": [
              "TEAM_ID            int64\n",
              "LEAGUE_ID          int64\n",
              "SEASON_ID          int64\n",
              "STANDINGSDATE     object\n",
              "CONFERENCE        object\n",
              "TEAM              object\n",
              "G                  int64\n",
              "W                  int64\n",
              "L                  int64\n",
              "W_PCT            float64\n",
              "HOME_RECORD       object\n",
              "ROAD_RECORD       object\n",
              "RETURNTOPLAY     float64\n",
              "dtype: object"
            ]
          },
          "metadata": {},
          "execution_count": 9
        }
      ]
    },
    {
      "cell_type": "code",
      "source": [
        "ranking.head(5)"
      ],
      "metadata": {
        "colab": {
          "base_uri": "https://localhost:8080/",
          "height": 206
        },
        "id": "C17L4CvPwvX6",
        "outputId": "a2f58966-94b1-43eb-c856-96aeb6023ca1"
      },
      "execution_count": 10,
      "outputs": [
        {
          "output_type": "execute_result",
          "data": {
            "text/plain": [
              "      TEAM_ID  LEAGUE_ID  SEASON_ID STANDINGSDATE CONFERENCE          TEAM  \\\n",
              "0  1610612744          0      22021    2021-11-17       West  Golden State   \n",
              "1  1610612756          0      22021    2021-11-17       West       Phoenix   \n",
              "2  1610612742          0      22021    2021-11-17       West        Dallas   \n",
              "3  1610612743          0      22021    2021-11-17       West        Denver   \n",
              "4  1610612746          0      22021    2021-11-17       West   LA Clippers   \n",
              "\n",
              "    G   W  L  W_PCT HOME_RECORD ROAD_RECORD  RETURNTOPLAY  \n",
              "0  14  12  2  0.857         8-1         4-1           NaN  \n",
              "1  14  11  3  0.786         6-2         5-1           NaN  \n",
              "2  14   9  5  0.643         6-1         3-4           NaN  \n",
              "3  14   9  5  0.643         7-1         2-4           NaN  \n",
              "4  14   9  5  0.643         7-3         2-2           NaN  "
            ],
            "text/html": [
              "\n",
              "  <div id=\"df-077b65b0-7029-4792-b424-e600239ceb2e\">\n",
              "    <div class=\"colab-df-container\">\n",
              "      <div>\n",
              "<style scoped>\n",
              "    .dataframe tbody tr th:only-of-type {\n",
              "        vertical-align: middle;\n",
              "    }\n",
              "\n",
              "    .dataframe tbody tr th {\n",
              "        vertical-align: top;\n",
              "    }\n",
              "\n",
              "    .dataframe thead th {\n",
              "        text-align: right;\n",
              "    }\n",
              "</style>\n",
              "<table border=\"1\" class=\"dataframe\">\n",
              "  <thead>\n",
              "    <tr style=\"text-align: right;\">\n",
              "      <th></th>\n",
              "      <th>TEAM_ID</th>\n",
              "      <th>LEAGUE_ID</th>\n",
              "      <th>SEASON_ID</th>\n",
              "      <th>STANDINGSDATE</th>\n",
              "      <th>CONFERENCE</th>\n",
              "      <th>TEAM</th>\n",
              "      <th>G</th>\n",
              "      <th>W</th>\n",
              "      <th>L</th>\n",
              "      <th>W_PCT</th>\n",
              "      <th>HOME_RECORD</th>\n",
              "      <th>ROAD_RECORD</th>\n",
              "      <th>RETURNTOPLAY</th>\n",
              "    </tr>\n",
              "  </thead>\n",
              "  <tbody>\n",
              "    <tr>\n",
              "      <th>0</th>\n",
              "      <td>1610612744</td>\n",
              "      <td>0</td>\n",
              "      <td>22021</td>\n",
              "      <td>2021-11-17</td>\n",
              "      <td>West</td>\n",
              "      <td>Golden State</td>\n",
              "      <td>14</td>\n",
              "      <td>12</td>\n",
              "      <td>2</td>\n",
              "      <td>0.857</td>\n",
              "      <td>8-1</td>\n",
              "      <td>4-1</td>\n",
              "      <td>NaN</td>\n",
              "    </tr>\n",
              "    <tr>\n",
              "      <th>1</th>\n",
              "      <td>1610612756</td>\n",
              "      <td>0</td>\n",
              "      <td>22021</td>\n",
              "      <td>2021-11-17</td>\n",
              "      <td>West</td>\n",
              "      <td>Phoenix</td>\n",
              "      <td>14</td>\n",
              "      <td>11</td>\n",
              "      <td>3</td>\n",
              "      <td>0.786</td>\n",
              "      <td>6-2</td>\n",
              "      <td>5-1</td>\n",
              "      <td>NaN</td>\n",
              "    </tr>\n",
              "    <tr>\n",
              "      <th>2</th>\n",
              "      <td>1610612742</td>\n",
              "      <td>0</td>\n",
              "      <td>22021</td>\n",
              "      <td>2021-11-17</td>\n",
              "      <td>West</td>\n",
              "      <td>Dallas</td>\n",
              "      <td>14</td>\n",
              "      <td>9</td>\n",
              "      <td>5</td>\n",
              "      <td>0.643</td>\n",
              "      <td>6-1</td>\n",
              "      <td>3-4</td>\n",
              "      <td>NaN</td>\n",
              "    </tr>\n",
              "    <tr>\n",
              "      <th>3</th>\n",
              "      <td>1610612743</td>\n",
              "      <td>0</td>\n",
              "      <td>22021</td>\n",
              "      <td>2021-11-17</td>\n",
              "      <td>West</td>\n",
              "      <td>Denver</td>\n",
              "      <td>14</td>\n",
              "      <td>9</td>\n",
              "      <td>5</td>\n",
              "      <td>0.643</td>\n",
              "      <td>7-1</td>\n",
              "      <td>2-4</td>\n",
              "      <td>NaN</td>\n",
              "    </tr>\n",
              "    <tr>\n",
              "      <th>4</th>\n",
              "      <td>1610612746</td>\n",
              "      <td>0</td>\n",
              "      <td>22021</td>\n",
              "      <td>2021-11-17</td>\n",
              "      <td>West</td>\n",
              "      <td>LA Clippers</td>\n",
              "      <td>14</td>\n",
              "      <td>9</td>\n",
              "      <td>5</td>\n",
              "      <td>0.643</td>\n",
              "      <td>7-3</td>\n",
              "      <td>2-2</td>\n",
              "      <td>NaN</td>\n",
              "    </tr>\n",
              "  </tbody>\n",
              "</table>\n",
              "</div>\n",
              "      <button class=\"colab-df-convert\" onclick=\"convertToInteractive('df-077b65b0-7029-4792-b424-e600239ceb2e')\"\n",
              "              title=\"Convert this dataframe to an interactive table.\"\n",
              "              style=\"display:none;\">\n",
              "        \n",
              "  <svg xmlns=\"http://www.w3.org/2000/svg\" height=\"24px\"viewBox=\"0 0 24 24\"\n",
              "       width=\"24px\">\n",
              "    <path d=\"M0 0h24v24H0V0z\" fill=\"none\"/>\n",
              "    <path d=\"M18.56 5.44l.94 2.06.94-2.06 2.06-.94-2.06-.94-.94-2.06-.94 2.06-2.06.94zm-11 1L8.5 8.5l.94-2.06 2.06-.94-2.06-.94L8.5 2.5l-.94 2.06-2.06.94zm10 10l.94 2.06.94-2.06 2.06-.94-2.06-.94-.94-2.06-.94 2.06-2.06.94z\"/><path d=\"M17.41 7.96l-1.37-1.37c-.4-.4-.92-.59-1.43-.59-.52 0-1.04.2-1.43.59L10.3 9.45l-7.72 7.72c-.78.78-.78 2.05 0 2.83L4 21.41c.39.39.9.59 1.41.59.51 0 1.02-.2 1.41-.59l7.78-7.78 2.81-2.81c.8-.78.8-2.07 0-2.86zM5.41 20L4 18.59l7.72-7.72 1.47 1.35L5.41 20z\"/>\n",
              "  </svg>\n",
              "      </button>\n",
              "      \n",
              "  <style>\n",
              "    .colab-df-container {\n",
              "      display:flex;\n",
              "      flex-wrap:wrap;\n",
              "      gap: 12px;\n",
              "    }\n",
              "\n",
              "    .colab-df-convert {\n",
              "      background-color: #E8F0FE;\n",
              "      border: none;\n",
              "      border-radius: 50%;\n",
              "      cursor: pointer;\n",
              "      display: none;\n",
              "      fill: #1967D2;\n",
              "      height: 32px;\n",
              "      padding: 0 0 0 0;\n",
              "      width: 32px;\n",
              "    }\n",
              "\n",
              "    .colab-df-convert:hover {\n",
              "      background-color: #E2EBFA;\n",
              "      box-shadow: 0px 1px 2px rgba(60, 64, 67, 0.3), 0px 1px 3px 1px rgba(60, 64, 67, 0.15);\n",
              "      fill: #174EA6;\n",
              "    }\n",
              "\n",
              "    [theme=dark] .colab-df-convert {\n",
              "      background-color: #3B4455;\n",
              "      fill: #D2E3FC;\n",
              "    }\n",
              "\n",
              "    [theme=dark] .colab-df-convert:hover {\n",
              "      background-color: #434B5C;\n",
              "      box-shadow: 0px 1px 3px 1px rgba(0, 0, 0, 0.15);\n",
              "      filter: drop-shadow(0px 1px 2px rgba(0, 0, 0, 0.3));\n",
              "      fill: #FFFFFF;\n",
              "    }\n",
              "  </style>\n",
              "\n",
              "      <script>\n",
              "        const buttonEl =\n",
              "          document.querySelector('#df-077b65b0-7029-4792-b424-e600239ceb2e button.colab-df-convert');\n",
              "        buttonEl.style.display =\n",
              "          google.colab.kernel.accessAllowed ? 'block' : 'none';\n",
              "\n",
              "        async function convertToInteractive(key) {\n",
              "          const element = document.querySelector('#df-077b65b0-7029-4792-b424-e600239ceb2e');\n",
              "          const dataTable =\n",
              "            await google.colab.kernel.invokeFunction('convertToInteractive',\n",
              "                                                     [key], {});\n",
              "          if (!dataTable) return;\n",
              "\n",
              "          const docLinkHtml = 'Like what you see? Visit the ' +\n",
              "            '<a target=\"_blank\" href=https://colab.research.google.com/notebooks/data_table.ipynb>data table notebook</a>'\n",
              "            + ' to learn more about interactive tables.';\n",
              "          element.innerHTML = '';\n",
              "          dataTable['output_type'] = 'display_data';\n",
              "          await google.colab.output.renderOutput(dataTable, element);\n",
              "          const docLink = document.createElement('div');\n",
              "          docLink.innerHTML = docLinkHtml;\n",
              "          element.appendChild(docLink);\n",
              "        }\n",
              "      </script>\n",
              "    </div>\n",
              "  </div>\n",
              "  "
            ]
          },
          "metadata": {},
          "execution_count": 10
        }
      ]
    },
    {
      "cell_type": "code",
      "source": [
        "teams.dtypes"
      ],
      "metadata": {
        "colab": {
          "base_uri": "https://localhost:8080/"
        },
        "id": "jkD8F4WwW9wn",
        "outputId": "836ee63d-462c-44bb-837b-a5d4c5e94e11"
      },
      "execution_count": 11,
      "outputs": [
        {
          "output_type": "execute_result",
          "data": {
            "text/plain": [
              "LEAGUE_ID               int64\n",
              "TEAM_ID                 int64\n",
              "MIN_YEAR                int64\n",
              "MAX_YEAR                int64\n",
              "ABBREVIATION           object\n",
              "NICKNAME               object\n",
              "YEARFOUNDED             int64\n",
              "CITY                   object\n",
              "ARENA                  object\n",
              "ARENACAPACITY         float64\n",
              "OWNER                  object\n",
              "GENERALMANAGER         object\n",
              "HEADCOACH              object\n",
              "DLEAGUEAFFILIATION     object\n",
              "dtype: object"
            ]
          },
          "metadata": {},
          "execution_count": 11
        }
      ]
    },
    {
      "cell_type": "code",
      "source": [
        "teams.head(5)"
      ],
      "metadata": {
        "colab": {
          "base_uri": "https://localhost:8080/",
          "height": 206
        },
        "id": "5ZQBBCLzXAbx",
        "outputId": "6c32ad2b-8b7e-43a3-9fe2-062843822235"
      },
      "execution_count": 12,
      "outputs": [
        {
          "output_type": "execute_result",
          "data": {
            "text/plain": [
              "   LEAGUE_ID     TEAM_ID  MIN_YEAR  MAX_YEAR ABBREVIATION   NICKNAME  \\\n",
              "0          0  1610612737      1949      2019          ATL      Hawks   \n",
              "1          0  1610612738      1946      2019          BOS    Celtics   \n",
              "2          0  1610612740      2002      2019          NOP   Pelicans   \n",
              "3          0  1610612741      1966      2019          CHI      Bulls   \n",
              "4          0  1610612742      1980      2019          DAL  Mavericks   \n",
              "\n",
              "   YEARFOUNDED         CITY                     ARENA  ARENACAPACITY  \\\n",
              "0         1949      Atlanta          State Farm Arena        18729.0   \n",
              "1         1946       Boston                 TD Garden        18624.0   \n",
              "2         2002  New Orleans      Smoothie King Center            NaN   \n",
              "3         1966      Chicago             United Center        21711.0   \n",
              "4         1980       Dallas  American Airlines Center        19200.0   \n",
              "\n",
              "             OWNER  GENERALMANAGER      HEADCOACH DLEAGUEAFFILIATION  \n",
              "0     Tony Ressler  Travis Schlenk   Lloyd Pierce      Erie Bayhawks  \n",
              "1    Wyc Grousbeck     Danny Ainge   Brad Stevens    Maine Red Claws  \n",
              "2       Tom Benson  Trajan Langdon   Alvin Gentry       No Affiliate  \n",
              "3  Jerry Reinsdorf      Gar Forman     Jim Boylen   Windy City Bulls  \n",
              "4       Mark Cuban   Donnie Nelson  Rick Carlisle      Texas Legends  "
            ],
            "text/html": [
              "\n",
              "  <div id=\"df-2c67370f-bb06-46a7-abcc-8a05e859bf86\">\n",
              "    <div class=\"colab-df-container\">\n",
              "      <div>\n",
              "<style scoped>\n",
              "    .dataframe tbody tr th:only-of-type {\n",
              "        vertical-align: middle;\n",
              "    }\n",
              "\n",
              "    .dataframe tbody tr th {\n",
              "        vertical-align: top;\n",
              "    }\n",
              "\n",
              "    .dataframe thead th {\n",
              "        text-align: right;\n",
              "    }\n",
              "</style>\n",
              "<table border=\"1\" class=\"dataframe\">\n",
              "  <thead>\n",
              "    <tr style=\"text-align: right;\">\n",
              "      <th></th>\n",
              "      <th>LEAGUE_ID</th>\n",
              "      <th>TEAM_ID</th>\n",
              "      <th>MIN_YEAR</th>\n",
              "      <th>MAX_YEAR</th>\n",
              "      <th>ABBREVIATION</th>\n",
              "      <th>NICKNAME</th>\n",
              "      <th>YEARFOUNDED</th>\n",
              "      <th>CITY</th>\n",
              "      <th>ARENA</th>\n",
              "      <th>ARENACAPACITY</th>\n",
              "      <th>OWNER</th>\n",
              "      <th>GENERALMANAGER</th>\n",
              "      <th>HEADCOACH</th>\n",
              "      <th>DLEAGUEAFFILIATION</th>\n",
              "    </tr>\n",
              "  </thead>\n",
              "  <tbody>\n",
              "    <tr>\n",
              "      <th>0</th>\n",
              "      <td>0</td>\n",
              "      <td>1610612737</td>\n",
              "      <td>1949</td>\n",
              "      <td>2019</td>\n",
              "      <td>ATL</td>\n",
              "      <td>Hawks</td>\n",
              "      <td>1949</td>\n",
              "      <td>Atlanta</td>\n",
              "      <td>State Farm Arena</td>\n",
              "      <td>18729.0</td>\n",
              "      <td>Tony Ressler</td>\n",
              "      <td>Travis Schlenk</td>\n",
              "      <td>Lloyd Pierce</td>\n",
              "      <td>Erie Bayhawks</td>\n",
              "    </tr>\n",
              "    <tr>\n",
              "      <th>1</th>\n",
              "      <td>0</td>\n",
              "      <td>1610612738</td>\n",
              "      <td>1946</td>\n",
              "      <td>2019</td>\n",
              "      <td>BOS</td>\n",
              "      <td>Celtics</td>\n",
              "      <td>1946</td>\n",
              "      <td>Boston</td>\n",
              "      <td>TD Garden</td>\n",
              "      <td>18624.0</td>\n",
              "      <td>Wyc Grousbeck</td>\n",
              "      <td>Danny Ainge</td>\n",
              "      <td>Brad Stevens</td>\n",
              "      <td>Maine Red Claws</td>\n",
              "    </tr>\n",
              "    <tr>\n",
              "      <th>2</th>\n",
              "      <td>0</td>\n",
              "      <td>1610612740</td>\n",
              "      <td>2002</td>\n",
              "      <td>2019</td>\n",
              "      <td>NOP</td>\n",
              "      <td>Pelicans</td>\n",
              "      <td>2002</td>\n",
              "      <td>New Orleans</td>\n",
              "      <td>Smoothie King Center</td>\n",
              "      <td>NaN</td>\n",
              "      <td>Tom Benson</td>\n",
              "      <td>Trajan Langdon</td>\n",
              "      <td>Alvin Gentry</td>\n",
              "      <td>No Affiliate</td>\n",
              "    </tr>\n",
              "    <tr>\n",
              "      <th>3</th>\n",
              "      <td>0</td>\n",
              "      <td>1610612741</td>\n",
              "      <td>1966</td>\n",
              "      <td>2019</td>\n",
              "      <td>CHI</td>\n",
              "      <td>Bulls</td>\n",
              "      <td>1966</td>\n",
              "      <td>Chicago</td>\n",
              "      <td>United Center</td>\n",
              "      <td>21711.0</td>\n",
              "      <td>Jerry Reinsdorf</td>\n",
              "      <td>Gar Forman</td>\n",
              "      <td>Jim Boylen</td>\n",
              "      <td>Windy City Bulls</td>\n",
              "    </tr>\n",
              "    <tr>\n",
              "      <th>4</th>\n",
              "      <td>0</td>\n",
              "      <td>1610612742</td>\n",
              "      <td>1980</td>\n",
              "      <td>2019</td>\n",
              "      <td>DAL</td>\n",
              "      <td>Mavericks</td>\n",
              "      <td>1980</td>\n",
              "      <td>Dallas</td>\n",
              "      <td>American Airlines Center</td>\n",
              "      <td>19200.0</td>\n",
              "      <td>Mark Cuban</td>\n",
              "      <td>Donnie Nelson</td>\n",
              "      <td>Rick Carlisle</td>\n",
              "      <td>Texas Legends</td>\n",
              "    </tr>\n",
              "  </tbody>\n",
              "</table>\n",
              "</div>\n",
              "      <button class=\"colab-df-convert\" onclick=\"convertToInteractive('df-2c67370f-bb06-46a7-abcc-8a05e859bf86')\"\n",
              "              title=\"Convert this dataframe to an interactive table.\"\n",
              "              style=\"display:none;\">\n",
              "        \n",
              "  <svg xmlns=\"http://www.w3.org/2000/svg\" height=\"24px\"viewBox=\"0 0 24 24\"\n",
              "       width=\"24px\">\n",
              "    <path d=\"M0 0h24v24H0V0z\" fill=\"none\"/>\n",
              "    <path d=\"M18.56 5.44l.94 2.06.94-2.06 2.06-.94-2.06-.94-.94-2.06-.94 2.06-2.06.94zm-11 1L8.5 8.5l.94-2.06 2.06-.94-2.06-.94L8.5 2.5l-.94 2.06-2.06.94zm10 10l.94 2.06.94-2.06 2.06-.94-2.06-.94-.94-2.06-.94 2.06-2.06.94z\"/><path d=\"M17.41 7.96l-1.37-1.37c-.4-.4-.92-.59-1.43-.59-.52 0-1.04.2-1.43.59L10.3 9.45l-7.72 7.72c-.78.78-.78 2.05 0 2.83L4 21.41c.39.39.9.59 1.41.59.51 0 1.02-.2 1.41-.59l7.78-7.78 2.81-2.81c.8-.78.8-2.07 0-2.86zM5.41 20L4 18.59l7.72-7.72 1.47 1.35L5.41 20z\"/>\n",
              "  </svg>\n",
              "      </button>\n",
              "      \n",
              "  <style>\n",
              "    .colab-df-container {\n",
              "      display:flex;\n",
              "      flex-wrap:wrap;\n",
              "      gap: 12px;\n",
              "    }\n",
              "\n",
              "    .colab-df-convert {\n",
              "      background-color: #E8F0FE;\n",
              "      border: none;\n",
              "      border-radius: 50%;\n",
              "      cursor: pointer;\n",
              "      display: none;\n",
              "      fill: #1967D2;\n",
              "      height: 32px;\n",
              "      padding: 0 0 0 0;\n",
              "      width: 32px;\n",
              "    }\n",
              "\n",
              "    .colab-df-convert:hover {\n",
              "      background-color: #E2EBFA;\n",
              "      box-shadow: 0px 1px 2px rgba(60, 64, 67, 0.3), 0px 1px 3px 1px rgba(60, 64, 67, 0.15);\n",
              "      fill: #174EA6;\n",
              "    }\n",
              "\n",
              "    [theme=dark] .colab-df-convert {\n",
              "      background-color: #3B4455;\n",
              "      fill: #D2E3FC;\n",
              "    }\n",
              "\n",
              "    [theme=dark] .colab-df-convert:hover {\n",
              "      background-color: #434B5C;\n",
              "      box-shadow: 0px 1px 3px 1px rgba(0, 0, 0, 0.15);\n",
              "      filter: drop-shadow(0px 1px 2px rgba(0, 0, 0, 0.3));\n",
              "      fill: #FFFFFF;\n",
              "    }\n",
              "  </style>\n",
              "\n",
              "      <script>\n",
              "        const buttonEl =\n",
              "          document.querySelector('#df-2c67370f-bb06-46a7-abcc-8a05e859bf86 button.colab-df-convert');\n",
              "        buttonEl.style.display =\n",
              "          google.colab.kernel.accessAllowed ? 'block' : 'none';\n",
              "\n",
              "        async function convertToInteractive(key) {\n",
              "          const element = document.querySelector('#df-2c67370f-bb06-46a7-abcc-8a05e859bf86');\n",
              "          const dataTable =\n",
              "            await google.colab.kernel.invokeFunction('convertToInteractive',\n",
              "                                                     [key], {});\n",
              "          if (!dataTable) return;\n",
              "\n",
              "          const docLinkHtml = 'Like what you see? Visit the ' +\n",
              "            '<a target=\"_blank\" href=https://colab.research.google.com/notebooks/data_table.ipynb>data table notebook</a>'\n",
              "            + ' to learn more about interactive tables.';\n",
              "          element.innerHTML = '';\n",
              "          dataTable['output_type'] = 'display_data';\n",
              "          await google.colab.output.renderOutput(dataTable, element);\n",
              "          const docLink = document.createElement('div');\n",
              "          docLink.innerHTML = docLinkHtml;\n",
              "          element.appendChild(docLink);\n",
              "        }\n",
              "      </script>\n",
              "    </div>\n",
              "  </div>\n",
              "  "
            ]
          },
          "metadata": {},
          "execution_count": 12
        }
      ]
    },
    {
      "cell_type": "markdown",
      "source": [
        "\n",
        "\n",
        "## 2.3. Cleaning and Wrangling Loaded Data"
      ],
      "metadata": {
        "id": "ZUy6QxrHsssD"
      }
    },
    {
      "cell_type": "markdown",
      "source": [
        "After examining our data and considering the viability of each variable’s function in our exploration, we decided to drop Game Status, Home Team ID and Visitor Team ID from the Game Outcome dataset and League ID, Season ID, Conference and Return to Play from the ranking dataset."
      ],
      "metadata": {
        "id": "D-w5F--3IPeY"
      }
    },
    {
      "cell_type": "code",
      "metadata": {
        "id": "A9etkWl6ugkB"
      },
      "source": [
        "# Drop irrelevant columns from game_outcome dataset (GAME_STATUS_TEXT, HOME_TEAM_ID, VISITOR_TEAM_ID)\n",
        "game_outcome = game_outcome.drop(['GAME_STATUS_TEXT', 'HOME_TEAM_ID', 'VISITOR_TEAM_ID'], axis = 1)\n",
        "\n",
        "# Drop irrelevant columns from ranking dataset (LEAGUE_ID, SEASON_ID, CONFERENCE, RETURNTOPLAY)\n",
        "ranking = ranking.drop(['LEAGUE_ID', 'SEASON_ID', 'CONFERENCE', 'RETURNTOPLAY'], axis = 1)"
      ],
      "execution_count": 13,
      "outputs": []
    },
    {
      "cell_type": "markdown",
      "source": [
        "We then convert the home and away records to percentages as they will be more interpretable than their previous object data type and drop all the record input columns and solely use the now constructed home and away win percentage columns going forward. "
      ],
      "metadata": {
        "id": "MbY2F18IIWCW"
      }
    },
    {
      "cell_type": "code",
      "source": [
        "# Add home win percentage and away win percentage to ranking dataset and get rid of home record and away record columns\n",
        "\n",
        "# Divide home record column into wins and losses\n",
        "ranking[['HOME_WINS', 'HOME_LOSES']] = ranking['HOME_RECORD'].str.split('-', 1, expand = True).astype('int64')\n",
        "\n",
        "# Divide away record column into wins and losses\n",
        "ranking[['AWAY_WINS', 'AWAY_LOSES']] = ranking['ROAD_RECORD'].str.split('-', 1, expand = True).astype('int64')\n",
        "\n",
        "# calculate home and away win percentages\n",
        "ranking['H_W_PCT'] = ranking['HOME_WINS'] / (ranking['HOME_WINS'] + ranking['HOME_LOSES'])\n",
        "ranking['A_W_PCT'] = ranking['AWAY_WINS'] / (ranking['AWAY_WINS'] + ranking['AWAY_LOSES'])\n",
        "\n",
        "# drop record columns (now irrelevant), intermediate columns created, and useless columns moving forward\n",
        "ranking = ranking.drop(['G', 'W', 'L', 'HOME_RECORD', 'ROAD_RECORD', 'HOME_WINS', 'HOME_LOSES', 'AWAY_WINS', 'AWAY_LOSES'], axis = 1)\n",
        "\n",
        "ranking.head(5)"
      ],
      "metadata": {
        "colab": {
          "base_uri": "https://localhost:8080/",
          "height": 206
        },
        "id": "0J1eSfp1YpfC",
        "outputId": "a2c25baa-3d8a-4fe4-8294-d1c3c7e061ad"
      },
      "execution_count": 14,
      "outputs": [
        {
          "output_type": "execute_result",
          "data": {
            "text/plain": [
              "      TEAM_ID STANDINGSDATE          TEAM  W_PCT   H_W_PCT   A_W_PCT\n",
              "0  1610612744    2021-11-17  Golden State  0.857  0.888889  0.800000\n",
              "1  1610612756    2021-11-17       Phoenix  0.786  0.750000  0.833333\n",
              "2  1610612742    2021-11-17        Dallas  0.643  0.857143  0.428571\n",
              "3  1610612743    2021-11-17        Denver  0.643  0.875000  0.333333\n",
              "4  1610612746    2021-11-17   LA Clippers  0.643  0.700000  0.500000"
            ],
            "text/html": [
              "\n",
              "  <div id=\"df-b1104daa-236c-4964-b8ff-c216b515041d\">\n",
              "    <div class=\"colab-df-container\">\n",
              "      <div>\n",
              "<style scoped>\n",
              "    .dataframe tbody tr th:only-of-type {\n",
              "        vertical-align: middle;\n",
              "    }\n",
              "\n",
              "    .dataframe tbody tr th {\n",
              "        vertical-align: top;\n",
              "    }\n",
              "\n",
              "    .dataframe thead th {\n",
              "        text-align: right;\n",
              "    }\n",
              "</style>\n",
              "<table border=\"1\" class=\"dataframe\">\n",
              "  <thead>\n",
              "    <tr style=\"text-align: right;\">\n",
              "      <th></th>\n",
              "      <th>TEAM_ID</th>\n",
              "      <th>STANDINGSDATE</th>\n",
              "      <th>TEAM</th>\n",
              "      <th>W_PCT</th>\n",
              "      <th>H_W_PCT</th>\n",
              "      <th>A_W_PCT</th>\n",
              "    </tr>\n",
              "  </thead>\n",
              "  <tbody>\n",
              "    <tr>\n",
              "      <th>0</th>\n",
              "      <td>1610612744</td>\n",
              "      <td>2021-11-17</td>\n",
              "      <td>Golden State</td>\n",
              "      <td>0.857</td>\n",
              "      <td>0.888889</td>\n",
              "      <td>0.800000</td>\n",
              "    </tr>\n",
              "    <tr>\n",
              "      <th>1</th>\n",
              "      <td>1610612756</td>\n",
              "      <td>2021-11-17</td>\n",
              "      <td>Phoenix</td>\n",
              "      <td>0.786</td>\n",
              "      <td>0.750000</td>\n",
              "      <td>0.833333</td>\n",
              "    </tr>\n",
              "    <tr>\n",
              "      <th>2</th>\n",
              "      <td>1610612742</td>\n",
              "      <td>2021-11-17</td>\n",
              "      <td>Dallas</td>\n",
              "      <td>0.643</td>\n",
              "      <td>0.857143</td>\n",
              "      <td>0.428571</td>\n",
              "    </tr>\n",
              "    <tr>\n",
              "      <th>3</th>\n",
              "      <td>1610612743</td>\n",
              "      <td>2021-11-17</td>\n",
              "      <td>Denver</td>\n",
              "      <td>0.643</td>\n",
              "      <td>0.875000</td>\n",
              "      <td>0.333333</td>\n",
              "    </tr>\n",
              "    <tr>\n",
              "      <th>4</th>\n",
              "      <td>1610612746</td>\n",
              "      <td>2021-11-17</td>\n",
              "      <td>LA Clippers</td>\n",
              "      <td>0.643</td>\n",
              "      <td>0.700000</td>\n",
              "      <td>0.500000</td>\n",
              "    </tr>\n",
              "  </tbody>\n",
              "</table>\n",
              "</div>\n",
              "      <button class=\"colab-df-convert\" onclick=\"convertToInteractive('df-b1104daa-236c-4964-b8ff-c216b515041d')\"\n",
              "              title=\"Convert this dataframe to an interactive table.\"\n",
              "              style=\"display:none;\">\n",
              "        \n",
              "  <svg xmlns=\"http://www.w3.org/2000/svg\" height=\"24px\"viewBox=\"0 0 24 24\"\n",
              "       width=\"24px\">\n",
              "    <path d=\"M0 0h24v24H0V0z\" fill=\"none\"/>\n",
              "    <path d=\"M18.56 5.44l.94 2.06.94-2.06 2.06-.94-2.06-.94-.94-2.06-.94 2.06-2.06.94zm-11 1L8.5 8.5l.94-2.06 2.06-.94-2.06-.94L8.5 2.5l-.94 2.06-2.06.94zm10 10l.94 2.06.94-2.06 2.06-.94-2.06-.94-.94-2.06-.94 2.06-2.06.94z\"/><path d=\"M17.41 7.96l-1.37-1.37c-.4-.4-.92-.59-1.43-.59-.52 0-1.04.2-1.43.59L10.3 9.45l-7.72 7.72c-.78.78-.78 2.05 0 2.83L4 21.41c.39.39.9.59 1.41.59.51 0 1.02-.2 1.41-.59l7.78-7.78 2.81-2.81c.8-.78.8-2.07 0-2.86zM5.41 20L4 18.59l7.72-7.72 1.47 1.35L5.41 20z\"/>\n",
              "  </svg>\n",
              "      </button>\n",
              "      \n",
              "  <style>\n",
              "    .colab-df-container {\n",
              "      display:flex;\n",
              "      flex-wrap:wrap;\n",
              "      gap: 12px;\n",
              "    }\n",
              "\n",
              "    .colab-df-convert {\n",
              "      background-color: #E8F0FE;\n",
              "      border: none;\n",
              "      border-radius: 50%;\n",
              "      cursor: pointer;\n",
              "      display: none;\n",
              "      fill: #1967D2;\n",
              "      height: 32px;\n",
              "      padding: 0 0 0 0;\n",
              "      width: 32px;\n",
              "    }\n",
              "\n",
              "    .colab-df-convert:hover {\n",
              "      background-color: #E2EBFA;\n",
              "      box-shadow: 0px 1px 2px rgba(60, 64, 67, 0.3), 0px 1px 3px 1px rgba(60, 64, 67, 0.15);\n",
              "      fill: #174EA6;\n",
              "    }\n",
              "\n",
              "    [theme=dark] .colab-df-convert {\n",
              "      background-color: #3B4455;\n",
              "      fill: #D2E3FC;\n",
              "    }\n",
              "\n",
              "    [theme=dark] .colab-df-convert:hover {\n",
              "      background-color: #434B5C;\n",
              "      box-shadow: 0px 1px 3px 1px rgba(0, 0, 0, 0.15);\n",
              "      filter: drop-shadow(0px 1px 2px rgba(0, 0, 0, 0.3));\n",
              "      fill: #FFFFFF;\n",
              "    }\n",
              "  </style>\n",
              "\n",
              "      <script>\n",
              "        const buttonEl =\n",
              "          document.querySelector('#df-b1104daa-236c-4964-b8ff-c216b515041d button.colab-df-convert');\n",
              "        buttonEl.style.display =\n",
              "          google.colab.kernel.accessAllowed ? 'block' : 'none';\n",
              "\n",
              "        async function convertToInteractive(key) {\n",
              "          const element = document.querySelector('#df-b1104daa-236c-4964-b8ff-c216b515041d');\n",
              "          const dataTable =\n",
              "            await google.colab.kernel.invokeFunction('convertToInteractive',\n",
              "                                                     [key], {});\n",
              "          if (!dataTable) return;\n",
              "\n",
              "          const docLinkHtml = 'Like what you see? Visit the ' +\n",
              "            '<a target=\"_blank\" href=https://colab.research.google.com/notebooks/data_table.ipynb>data table notebook</a>'\n",
              "            + ' to learn more about interactive tables.';\n",
              "          element.innerHTML = '';\n",
              "          dataTable['output_type'] = 'display_data';\n",
              "          await google.colab.output.renderOutput(dataTable, element);\n",
              "          const docLink = document.createElement('div');\n",
              "          docLink.innerHTML = docLinkHtml;\n",
              "          element.appendChild(docLink);\n",
              "        }\n",
              "      </script>\n",
              "    </div>\n",
              "  </div>\n",
              "  "
            ]
          },
          "metadata": {},
          "execution_count": 14
        }
      ]
    },
    {
      "cell_type": "markdown",
      "source": [
        "By joining these newly constructed win and loss percentages to the Team Game Stats data frame we effectively consolidated our inputs. Adding suffixes, dropping duplicate columns and removing null values ensures that our dataset can be interpreted and used with ease. "
      ],
      "metadata": {
        "id": "44_ruTkYIsJd"
      }
    },
    {
      "cell_type": "code",
      "source": [
        "# Join ranking and game_outcome datasets on TEAM_ID and STANDINGSDATE \n",
        "# to obtain a combined dataset with updated season stats for home and away teams after each game\n",
        "\n",
        "# First, add home team season stats\n",
        "team_game_stats = game_outcome.merge(ranking, how = 'left', left_on = ['TEAM_ID_home', 'GAME_DATE_EST'], right_on = ['TEAM_ID', 'STANDINGSDATE'])\n",
        "\n",
        "# add _home suffix to new columns to distinguish from away team\n",
        "team_game_stats.rename(columns = {'TEAM' : 'TEAM_home', 'W_PCT' : 'W_PCT_home', 'H_W_PCT' : 'H_W_PCT_home', 'A_W_PCT' : 'A_W_PCT_home'}, inplace = True)\n",
        "\n",
        "# drop duplicate columns before joining again\n",
        "team_game_stats = team_game_stats.drop(['STANDINGSDATE', 'TEAM_ID'], axis = 1)  \n",
        "\n",
        "# repeat process to add away team season stats to dataset\n",
        "team_game_stats = team_game_stats.merge(ranking, how = 'left', left_on = ['TEAM_ID_away', 'GAME_DATE_EST'], right_on = ['TEAM_ID', 'STANDINGSDATE'])\n",
        "\n",
        "team_game_stats.rename(columns = {'TEAM' : 'TEAM_away', 'W_PCT' : 'W_PCT_away', 'H_W_PCT' : 'H_W_PCT_away', 'A_W_PCT' : 'A_W_PCT_away'}, inplace = True)\n",
        "\n",
        "# drop duplicate columns again after last join\n",
        "team_game_stats = team_game_stats.drop(['STANDINGSDATE', 'TEAM_ID'], axis = 1) \n",
        "\n",
        "# move HOME_TEAM_WINS column (our label) to the end of dataset for easier visualization \n",
        "team_game_stats['HOME_TEAM_WIN'] = team_game_stats['HOME_TEAM_WINS']\n",
        "team_game_stats = team_game_stats.drop(['HOME_TEAM_WINS'], axis = 1)"
      ],
      "metadata": {
        "id": "Dyav9NRUfjg7"
      },
      "execution_count": 15,
      "outputs": []
    },
    {
      "cell_type": "code",
      "source": [
        "# Drop games with NaN values\n",
        "team_game_stats.dropna(inplace = True)"
      ],
      "metadata": {
        "id": "Jw1dQrur9kRt"
      },
      "execution_count": 16,
      "outputs": []
    },
    {
      "cell_type": "code",
      "source": [
        "# Check combined dataset\n",
        "team_game_stats.head(5)"
      ],
      "metadata": {
        "colab": {
          "base_uri": "https://localhost:8080/",
          "height": 236
        },
        "id": "MUXq2ud-wwaP",
        "outputId": "4ce3d419-ac27-41ca-f5fc-64d2ded2c0b7"
      },
      "execution_count": 17,
      "outputs": [
        {
          "output_type": "execute_result",
          "data": {
            "text/plain": [
              "  GAME_DATE_EST   GAME_ID  SEASON  TEAM_ID_home  PTS_home  FG_PCT_home  \\\n",
              "0    2021-11-17  22100213    2021    1610612766      97.0        0.438   \n",
              "1    2021-11-17  22100214    2021    1610612765      97.0        0.425   \n",
              "2    2021-11-17  22100215    2021    1610612737     110.0        0.506   \n",
              "3    2021-11-17  22100216    2021    1610612751     109.0        0.458   \n",
              "4    2021-11-17  22100217    2021    1610612748     113.0        0.483   \n",
              "\n",
              "   FT_PCT_home  FG3_PCT_home  AST_home  REB_home  ...  REB_away  TEAM_home  \\\n",
              "0        0.500         0.313      30.0      59.0  ...      48.0  Charlotte   \n",
              "1        0.750         0.286      16.0      42.0  ...      43.0    Detroit   \n",
              "2        0.833         0.351      28.0      40.0  ...      42.0    Atlanta   \n",
              "3        0.840         0.375      29.0      47.0  ...      50.0   Brooklyn   \n",
              "4        0.824         0.375      29.0      39.0  ...      38.0      Miami   \n",
              "\n",
              "   W_PCT_home  H_W_PCT_home  A_W_PCT_home    TEAM_away  W_PCT_away  \\\n",
              "0       0.563      0.714286      0.444444   Washington       0.714   \n",
              "1       0.286      0.285714      0.285714      Indiana       0.375   \n",
              "2       0.438      0.857143      0.111111       Boston       0.467   \n",
              "3       0.688      0.625000      0.750000    Cleveland       0.563   \n",
              "4       0.667      0.833333      0.555556  New Orleans       0.125   \n",
              "\n",
              "  H_W_PCT_away  A_W_PCT_away  HOME_TEAM_WIN  \n",
              "0     0.857143      0.571429              1  \n",
              "1     0.666667      0.200000              1  \n",
              "2     0.400000      0.500000              1  \n",
              "3     0.571429      0.555556              1  \n",
              "4     0.142857      0.111111              1  \n",
              "\n",
              "[5 rows x 26 columns]"
            ],
            "text/html": [
              "\n",
              "  <div id=\"df-3f94b314-a914-48a6-a033-38f983889da5\">\n",
              "    <div class=\"colab-df-container\">\n",
              "      <div>\n",
              "<style scoped>\n",
              "    .dataframe tbody tr th:only-of-type {\n",
              "        vertical-align: middle;\n",
              "    }\n",
              "\n",
              "    .dataframe tbody tr th {\n",
              "        vertical-align: top;\n",
              "    }\n",
              "\n",
              "    .dataframe thead th {\n",
              "        text-align: right;\n",
              "    }\n",
              "</style>\n",
              "<table border=\"1\" class=\"dataframe\">\n",
              "  <thead>\n",
              "    <tr style=\"text-align: right;\">\n",
              "      <th></th>\n",
              "      <th>GAME_DATE_EST</th>\n",
              "      <th>GAME_ID</th>\n",
              "      <th>SEASON</th>\n",
              "      <th>TEAM_ID_home</th>\n",
              "      <th>PTS_home</th>\n",
              "      <th>FG_PCT_home</th>\n",
              "      <th>FT_PCT_home</th>\n",
              "      <th>FG3_PCT_home</th>\n",
              "      <th>AST_home</th>\n",
              "      <th>REB_home</th>\n",
              "      <th>...</th>\n",
              "      <th>REB_away</th>\n",
              "      <th>TEAM_home</th>\n",
              "      <th>W_PCT_home</th>\n",
              "      <th>H_W_PCT_home</th>\n",
              "      <th>A_W_PCT_home</th>\n",
              "      <th>TEAM_away</th>\n",
              "      <th>W_PCT_away</th>\n",
              "      <th>H_W_PCT_away</th>\n",
              "      <th>A_W_PCT_away</th>\n",
              "      <th>HOME_TEAM_WIN</th>\n",
              "    </tr>\n",
              "  </thead>\n",
              "  <tbody>\n",
              "    <tr>\n",
              "      <th>0</th>\n",
              "      <td>2021-11-17</td>\n",
              "      <td>22100213</td>\n",
              "      <td>2021</td>\n",
              "      <td>1610612766</td>\n",
              "      <td>97.0</td>\n",
              "      <td>0.438</td>\n",
              "      <td>0.500</td>\n",
              "      <td>0.313</td>\n",
              "      <td>30.0</td>\n",
              "      <td>59.0</td>\n",
              "      <td>...</td>\n",
              "      <td>48.0</td>\n",
              "      <td>Charlotte</td>\n",
              "      <td>0.563</td>\n",
              "      <td>0.714286</td>\n",
              "      <td>0.444444</td>\n",
              "      <td>Washington</td>\n",
              "      <td>0.714</td>\n",
              "      <td>0.857143</td>\n",
              "      <td>0.571429</td>\n",
              "      <td>1</td>\n",
              "    </tr>\n",
              "    <tr>\n",
              "      <th>1</th>\n",
              "      <td>2021-11-17</td>\n",
              "      <td>22100214</td>\n",
              "      <td>2021</td>\n",
              "      <td>1610612765</td>\n",
              "      <td>97.0</td>\n",
              "      <td>0.425</td>\n",
              "      <td>0.750</td>\n",
              "      <td>0.286</td>\n",
              "      <td>16.0</td>\n",
              "      <td>42.0</td>\n",
              "      <td>...</td>\n",
              "      <td>43.0</td>\n",
              "      <td>Detroit</td>\n",
              "      <td>0.286</td>\n",
              "      <td>0.285714</td>\n",
              "      <td>0.285714</td>\n",
              "      <td>Indiana</td>\n",
              "      <td>0.375</td>\n",
              "      <td>0.666667</td>\n",
              "      <td>0.200000</td>\n",
              "      <td>1</td>\n",
              "    </tr>\n",
              "    <tr>\n",
              "      <th>2</th>\n",
              "      <td>2021-11-17</td>\n",
              "      <td>22100215</td>\n",
              "      <td>2021</td>\n",
              "      <td>1610612737</td>\n",
              "      <td>110.0</td>\n",
              "      <td>0.506</td>\n",
              "      <td>0.833</td>\n",
              "      <td>0.351</td>\n",
              "      <td>28.0</td>\n",
              "      <td>40.0</td>\n",
              "      <td>...</td>\n",
              "      <td>42.0</td>\n",
              "      <td>Atlanta</td>\n",
              "      <td>0.438</td>\n",
              "      <td>0.857143</td>\n",
              "      <td>0.111111</td>\n",
              "      <td>Boston</td>\n",
              "      <td>0.467</td>\n",
              "      <td>0.400000</td>\n",
              "      <td>0.500000</td>\n",
              "      <td>1</td>\n",
              "    </tr>\n",
              "    <tr>\n",
              "      <th>3</th>\n",
              "      <td>2021-11-17</td>\n",
              "      <td>22100216</td>\n",
              "      <td>2021</td>\n",
              "      <td>1610612751</td>\n",
              "      <td>109.0</td>\n",
              "      <td>0.458</td>\n",
              "      <td>0.840</td>\n",
              "      <td>0.375</td>\n",
              "      <td>29.0</td>\n",
              "      <td>47.0</td>\n",
              "      <td>...</td>\n",
              "      <td>50.0</td>\n",
              "      <td>Brooklyn</td>\n",
              "      <td>0.688</td>\n",
              "      <td>0.625000</td>\n",
              "      <td>0.750000</td>\n",
              "      <td>Cleveland</td>\n",
              "      <td>0.563</td>\n",
              "      <td>0.571429</td>\n",
              "      <td>0.555556</td>\n",
              "      <td>1</td>\n",
              "    </tr>\n",
              "    <tr>\n",
              "      <th>4</th>\n",
              "      <td>2021-11-17</td>\n",
              "      <td>22100217</td>\n",
              "      <td>2021</td>\n",
              "      <td>1610612748</td>\n",
              "      <td>113.0</td>\n",
              "      <td>0.483</td>\n",
              "      <td>0.824</td>\n",
              "      <td>0.375</td>\n",
              "      <td>29.0</td>\n",
              "      <td>39.0</td>\n",
              "      <td>...</td>\n",
              "      <td>38.0</td>\n",
              "      <td>Miami</td>\n",
              "      <td>0.667</td>\n",
              "      <td>0.833333</td>\n",
              "      <td>0.555556</td>\n",
              "      <td>New Orleans</td>\n",
              "      <td>0.125</td>\n",
              "      <td>0.142857</td>\n",
              "      <td>0.111111</td>\n",
              "      <td>1</td>\n",
              "    </tr>\n",
              "  </tbody>\n",
              "</table>\n",
              "<p>5 rows × 26 columns</p>\n",
              "</div>\n",
              "      <button class=\"colab-df-convert\" onclick=\"convertToInteractive('df-3f94b314-a914-48a6-a033-38f983889da5')\"\n",
              "              title=\"Convert this dataframe to an interactive table.\"\n",
              "              style=\"display:none;\">\n",
              "        \n",
              "  <svg xmlns=\"http://www.w3.org/2000/svg\" height=\"24px\"viewBox=\"0 0 24 24\"\n",
              "       width=\"24px\">\n",
              "    <path d=\"M0 0h24v24H0V0z\" fill=\"none\"/>\n",
              "    <path d=\"M18.56 5.44l.94 2.06.94-2.06 2.06-.94-2.06-.94-.94-2.06-.94 2.06-2.06.94zm-11 1L8.5 8.5l.94-2.06 2.06-.94-2.06-.94L8.5 2.5l-.94 2.06-2.06.94zm10 10l.94 2.06.94-2.06 2.06-.94-2.06-.94-.94-2.06-.94 2.06-2.06.94z\"/><path d=\"M17.41 7.96l-1.37-1.37c-.4-.4-.92-.59-1.43-.59-.52 0-1.04.2-1.43.59L10.3 9.45l-7.72 7.72c-.78.78-.78 2.05 0 2.83L4 21.41c.39.39.9.59 1.41.59.51 0 1.02-.2 1.41-.59l7.78-7.78 2.81-2.81c.8-.78.8-2.07 0-2.86zM5.41 20L4 18.59l7.72-7.72 1.47 1.35L5.41 20z\"/>\n",
              "  </svg>\n",
              "      </button>\n",
              "      \n",
              "  <style>\n",
              "    .colab-df-container {\n",
              "      display:flex;\n",
              "      flex-wrap:wrap;\n",
              "      gap: 12px;\n",
              "    }\n",
              "\n",
              "    .colab-df-convert {\n",
              "      background-color: #E8F0FE;\n",
              "      border: none;\n",
              "      border-radius: 50%;\n",
              "      cursor: pointer;\n",
              "      display: none;\n",
              "      fill: #1967D2;\n",
              "      height: 32px;\n",
              "      padding: 0 0 0 0;\n",
              "      width: 32px;\n",
              "    }\n",
              "\n",
              "    .colab-df-convert:hover {\n",
              "      background-color: #E2EBFA;\n",
              "      box-shadow: 0px 1px 2px rgba(60, 64, 67, 0.3), 0px 1px 3px 1px rgba(60, 64, 67, 0.15);\n",
              "      fill: #174EA6;\n",
              "    }\n",
              "\n",
              "    [theme=dark] .colab-df-convert {\n",
              "      background-color: #3B4455;\n",
              "      fill: #D2E3FC;\n",
              "    }\n",
              "\n",
              "    [theme=dark] .colab-df-convert:hover {\n",
              "      background-color: #434B5C;\n",
              "      box-shadow: 0px 1px 3px 1px rgba(0, 0, 0, 0.15);\n",
              "      filter: drop-shadow(0px 1px 2px rgba(0, 0, 0, 0.3));\n",
              "      fill: #FFFFFF;\n",
              "    }\n",
              "  </style>\n",
              "\n",
              "      <script>\n",
              "        const buttonEl =\n",
              "          document.querySelector('#df-3f94b314-a914-48a6-a033-38f983889da5 button.colab-df-convert');\n",
              "        buttonEl.style.display =\n",
              "          google.colab.kernel.accessAllowed ? 'block' : 'none';\n",
              "\n",
              "        async function convertToInteractive(key) {\n",
              "          const element = document.querySelector('#df-3f94b314-a914-48a6-a033-38f983889da5');\n",
              "          const dataTable =\n",
              "            await google.colab.kernel.invokeFunction('convertToInteractive',\n",
              "                                                     [key], {});\n",
              "          if (!dataTable) return;\n",
              "\n",
              "          const docLinkHtml = 'Like what you see? Visit the ' +\n",
              "            '<a target=\"_blank\" href=https://colab.research.google.com/notebooks/data_table.ipynb>data table notebook</a>'\n",
              "            + ' to learn more about interactive tables.';\n",
              "          element.innerHTML = '';\n",
              "          dataTable['output_type'] = 'display_data';\n",
              "          await google.colab.output.renderOutput(dataTable, element);\n",
              "          const docLink = document.createElement('div');\n",
              "          docLink.innerHTML = docLinkHtml;\n",
              "          element.appendChild(docLink);\n",
              "        }\n",
              "      </script>\n",
              "    </div>\n",
              "  </div>\n",
              "  "
            ]
          },
          "metadata": {},
          "execution_count": 17
        }
      ]
    },
    {
      "cell_type": "markdown",
      "source": [
        "## 2.4. Computing Team Performance Over the Past 10 Games"
      ],
      "metadata": {
        "id": "Z_-65x8Eg4U7"
      }
    },
    {
      "cell_type": "markdown",
      "source": [
        "After an intial failed attempt to efficiently compute the moving averages, we were able to discover a way to reach the same goal by expending less memory in the process. Instead of doing the repeated splits and merges within the \"for\" loop, we decided to first make an array of dataframes where each data frame contains all games for a given team. After doing so, we created a new function that computes a 10-game moving average of the columns of interest that have been inputed and returning a copy of the dataset with the average of each stat in the last 10 games leading up to the current one"
      ],
      "metadata": {
        "id": "xgKtf-vgJ4M8"
      }
    },
    {
      "cell_type": "code",
      "source": [
        "# In this step, we compute 10 game moving averages for all the stats in the dataframe to reflect recent team performance\n",
        "# For each game, we will append to the dataset columns with the average of each stat in the last 10 games leading up to the current one\n",
        "\n",
        "# Make an array of dataframes where each dataframe contains all games for a given team\n",
        "team_list = teams['TEAM_ID'].tolist()\n",
        "\n",
        "df_list = {}\n",
        "\n",
        "col_list = ['GAME_DATE_EST', 'GAME_ID', 'TEAM_ID', 'PTS', 'FG_PCT', 'FT_PCT', 'FG3_PCT', 'AST', 'REB', 'W_PCT', 'H_W_PCT', 'A_W_PCT']\n",
        "col_list_home = ['GAME_DATE_EST', 'GAME_ID', 'TEAM_ID_home', 'PTS_home', 'FG_PCT_home', 'FT_PCT_home', 'FG3_PCT_home', 'AST_home', \n",
        "                 'REB_home', 'W_PCT_home', 'H_W_PCT_home', 'A_W_PCT_home']\n",
        "col_list_away = ['GAME_DATE_EST', 'GAME_ID', 'TEAM_ID_away', 'PTS_away', 'FG_PCT_away', 'FT_PCT_away', 'FG3_PCT_away', 'AST_away',\n",
        "                 'REB_away', 'W_PCT_away', 'H_W_PCT_away', 'A_W_PCT_away']\n",
        "\n",
        "count = 0\n",
        "for team in team_list: \n",
        "  df_home = pd.DataFrame()\n",
        "  df_away = pd.DataFrame()\n",
        "\n",
        "  df_home[col_list] = team_game_stats[team_game_stats['TEAM_ID_home'] == team][col_list_home]\n",
        "  df_away[col_list] = team_game_stats[team_game_stats['TEAM_ID_away'] == team][col_list_away]\n",
        "\n",
        "  df_list[count] = pd.concat([df_home, df_away], ignore_index=True)\n",
        "  df_list[count] = df_list[count].sort_values(by = ['GAME_DATE_EST'], ascending = False)\n",
        "\n",
        "  count += 1\n"
      ],
      "metadata": {
        "id": "vfBUhFadaPID"
      },
      "execution_count": 18,
      "outputs": []
    },
    {
      "cell_type": "markdown",
      "source": [
        "This function will now compute a 10 game moving average of the stats (columns) inputed (up to the date of each game) and returns a copy of the dataset with the new moving average columns appended."
      ],
      "metadata": {
        "id": "lLIVCBb5KYsq"
      }
    },
    {
      "cell_type": "code",
      "source": [
        "#\n",
        "# input: cols (the columns to compute a 10 game moving average of)\n",
        "# output: copy of team_game_stats with new _MA10 columns appended\n",
        "#\n",
        "def append_moving_average(cols):\n",
        "\n",
        "  # compute moving averages of the inputed columns and append to each df (team) in the list\n",
        "  for i in range(len(df_list)):\n",
        "    for col in cols:\n",
        "      df_list[i]['' + col + '_MA10'] = df_list[i][col].transform(lambda x: x[::-1].rolling(10, min_periods = 1).mean())\n",
        "\n",
        "  return df_list"
      ],
      "metadata": {
        "id": "XbUKnHT3gzvA"
      },
      "execution_count": 19,
      "outputs": []
    },
    {
      "cell_type": "markdown",
      "source": [
        "After definining the function, we call it on every dataframe of our df_list to compute the moving averages of all the stats for each team game. We then drop the original columns and keep the 10-game moving averages of these stats as our desired features. Once this is done for every team, we concatenate all the dataframe in the df_list to obtain a dataset containing all games of every team.\n",
        "\n",
        "Then, we proceed to merge this dataframe with a copy of the original team_game_stats dataset but keeping only the columns that identify each game, date, and the home and away teams, as well as our feature variable. The merge is done in two steps, first merging the MA10 stats for the home team and then merging the MA10 stats for the away team. "
      ],
      "metadata": {
        "id": "_1EqXQrQKl4T"
      }
    },
    {
      "cell_type": "code",
      "source": [
        "# Compute moving average columns for all stats for each team's dataset in the list and drop individual game stats\n",
        "stat_cols = ['PTS', 'FG_PCT', 'FT_PCT', 'FG3_PCT', 'AST', 'REB', 'W_PCT', 'H_W_PCT', 'A_W_PCT']\n",
        "\n",
        "df_list = append_moving_average(stat_cols)\n",
        "\n",
        "for i in range(len(df_list)):\n",
        "  df_list[i] = df_list[i].drop(stat_cols, axis = 1)\n",
        "\n",
        "\n",
        "# Concatenate the individual datasets for each team with the new moving averages \n",
        "concat_team_dfs = pd.concat(df_list)\n",
        "\n",
        "# Create new dataset to append the moving average columns for home and away teams\n",
        "final_game_stats_ma = team_game_stats[['GAME_DATE_EST',\t'GAME_ID', 'SEASON', 'TEAM_ID_home', 'TEAM_home', 'TEAM_ID_away', 'TEAM_away', 'HOME_TEAM_WIN']]\n",
        "\n",
        "# Merge concatenated datasets on home and away team ids to get stat moving averages home and away\n",
        "final_game_stats_ma = final_game_stats_ma.merge(concat_team_dfs, how = 'left', left_on = ['GAME_ID', 'TEAM_ID_home'], right_on = ['GAME_ID', 'TEAM_ID'])\n",
        "final_game_stats_ma = final_game_stats_ma.drop(['GAME_DATE_EST_y', 'TEAM_ID'], axis = 1)\n",
        "\n",
        "final_game_stats_ma = final_game_stats_ma.merge(concat_team_dfs, how = 'left', left_on = ['GAME_ID', 'TEAM_ID_away'], right_on = ['GAME_ID', 'TEAM_ID'],\n",
        "                                                suffixes = ('_home', '_away'))\n",
        "final_game_stats_ma = final_game_stats_ma.drop(['GAME_DATE_EST', 'TEAM_ID'], axis = 1)\n",
        "final_game_stats_ma = final_game_stats_ma.rename(columns = {'GAME_DATE_EST_x' : 'GAME_DATE_EST'})"
      ],
      "metadata": {
        "id": "Sg-kurJqkkOh"
      },
      "execution_count": 20,
      "outputs": []
    },
    {
      "cell_type": "markdown",
      "source": [
        "Once this is done, we can take a look at our final dataset, which will be used for exploration and modeling. "
      ],
      "metadata": {
        "id": "fWI2fMrzbpFl"
      }
    },
    {
      "cell_type": "code",
      "source": [
        "final_game_stats_ma"
      ],
      "metadata": {
        "id": "ZqGdlKWMvbQ_",
        "colab": {
          "base_uri": "https://localhost:8080/",
          "height": 424
        },
        "outputId": "9c81fd86-8abf-4b23-90a3-9121b9dcbd16"
      },
      "execution_count": 21,
      "outputs": [
        {
          "output_type": "execute_result",
          "data": {
            "text/plain": [
              "      GAME_DATE_EST   GAME_ID  SEASON  TEAM_ID_home   TEAM_home  TEAM_ID_away  \\\n",
              "0        2021-11-17  22100213    2021    1610612766   Charlotte    1610612764   \n",
              "1        2021-11-17  22100214    2021    1610612765     Detroit    1610612754   \n",
              "2        2021-11-17  22100215    2021    1610612737     Atlanta    1610612738   \n",
              "3        2021-11-17  22100216    2021    1610612751    Brooklyn    1610612739   \n",
              "4        2021-11-17  22100217    2021    1610612748       Miami    1610612740   \n",
              "...             ...       ...     ...           ...         ...           ...   \n",
              "24265    2014-10-11  11400037    2014    1610612749   Milwaukee    1610612741   \n",
              "24266    2014-10-10  11400031    2014    1610612761     Toronto    1610612738   \n",
              "24267    2014-10-10  11400029    2014    1610612750   Minnesota    1610612755   \n",
              "24268    2014-10-09  11400024    2014    1610612757    Portland    1610612762   \n",
              "24269    2014-10-07  11400010    2014    1610612758  Sacramento    1610612761   \n",
              "\n",
              "          TEAM_away  HOME_TEAM_WIN  PTS_MA10_home  FG_PCT_MA10_home  ...  \\\n",
              "0        Washington              1          109.1            0.4418  ...   \n",
              "1           Indiana              1           99.9            0.4088  ...   \n",
              "2            Boston              1          110.7            0.4605  ...   \n",
              "3         Cleveland              1          111.2            0.4849  ...   \n",
              "4       New Orleans              1          109.9            0.4675  ...   \n",
              "...             ...            ...            ...               ...  ...   \n",
              "24265       Chicago              0           97.6            0.4643  ...   \n",
              "24266        Boston              1           98.7            0.4527  ...   \n",
              "24267  Philadelphia              1          109.4            0.4610  ...   \n",
              "24268          Utah              0          101.8            0.4358  ...   \n",
              "24269       Toronto              1           97.9            0.4511  ...   \n",
              "\n",
              "       A_W_PCT_MA10_home  PTS_MA10_away  FG_PCT_MA10_away  FT_PCT_MA10_away  \\\n",
              "0               0.518135          105.7            0.4580            0.7862   \n",
              "1               0.122381          103.6            0.4687            0.7129   \n",
              "2               0.152897          102.9            0.4414            0.7932   \n",
              "3               0.664762          101.4            0.4457            0.7831   \n",
              "4               0.605635          101.5            0.4226            0.8341   \n",
              "...                  ...            ...               ...               ...   \n",
              "24265           0.114844           93.0            0.4323            0.7740   \n",
              "24266           0.429268          101.8            0.4560            0.7955   \n",
              "24267           0.364797          103.7            0.4849            0.7182   \n",
              "24268           0.504878          100.6            0.4638            0.7190   \n",
              "24269           0.250498           98.1            0.4496            0.7723   \n",
              "\n",
              "       FG3_PCT_MA10_away  AST_MA10_away  REB_MA10_away  W_PCT_MA10_away  \\\n",
              "0                 0.3297           24.9           47.5           0.7299   \n",
              "1                 0.3408           23.3           44.7           0.3312   \n",
              "2                 0.2994           21.3           45.6           0.4222   \n",
              "3                 0.3559           22.7           43.7           0.5725   \n",
              "4                 0.3490           24.2           42.0           0.1131   \n",
              "...                  ...            ...            ...              ...   \n",
              "24265             0.3228           22.1           42.1           0.5619   \n",
              "24266             0.3578           23.8           38.8           0.3413   \n",
              "24267             0.3257           22.2           37.3           0.2307   \n",
              "24268             0.2997           22.4           43.0           0.3759   \n",
              "24269             0.3279           19.3           41.8           0.5773   \n",
              "\n",
              "       H_W_PCT_MA10_away  A_W_PCT_MA10_away  \n",
              "0               0.876429           0.583810  \n",
              "1               0.583333           0.123175  \n",
              "2               0.185000           0.553651  \n",
              "3               0.590952           0.565198  \n",
              "4               0.042857           0.175754  \n",
              "...                  ...                ...  \n",
              "24265           0.590976           0.516163  \n",
              "24266           0.453356           0.193946  \n",
              "24267           0.308619           0.185649  \n",
              "24268           0.465492           0.286648  \n",
              "24269           0.670732           0.484268  \n",
              "\n",
              "[24270 rows x 26 columns]"
            ],
            "text/html": [
              "\n",
              "  <div id=\"df-208e1e4b-0674-42ad-8062-02759716b20e\">\n",
              "    <div class=\"colab-df-container\">\n",
              "      <div>\n",
              "<style scoped>\n",
              "    .dataframe tbody tr th:only-of-type {\n",
              "        vertical-align: middle;\n",
              "    }\n",
              "\n",
              "    .dataframe tbody tr th {\n",
              "        vertical-align: top;\n",
              "    }\n",
              "\n",
              "    .dataframe thead th {\n",
              "        text-align: right;\n",
              "    }\n",
              "</style>\n",
              "<table border=\"1\" class=\"dataframe\">\n",
              "  <thead>\n",
              "    <tr style=\"text-align: right;\">\n",
              "      <th></th>\n",
              "      <th>GAME_DATE_EST</th>\n",
              "      <th>GAME_ID</th>\n",
              "      <th>SEASON</th>\n",
              "      <th>TEAM_ID_home</th>\n",
              "      <th>TEAM_home</th>\n",
              "      <th>TEAM_ID_away</th>\n",
              "      <th>TEAM_away</th>\n",
              "      <th>HOME_TEAM_WIN</th>\n",
              "      <th>PTS_MA10_home</th>\n",
              "      <th>FG_PCT_MA10_home</th>\n",
              "      <th>...</th>\n",
              "      <th>A_W_PCT_MA10_home</th>\n",
              "      <th>PTS_MA10_away</th>\n",
              "      <th>FG_PCT_MA10_away</th>\n",
              "      <th>FT_PCT_MA10_away</th>\n",
              "      <th>FG3_PCT_MA10_away</th>\n",
              "      <th>AST_MA10_away</th>\n",
              "      <th>REB_MA10_away</th>\n",
              "      <th>W_PCT_MA10_away</th>\n",
              "      <th>H_W_PCT_MA10_away</th>\n",
              "      <th>A_W_PCT_MA10_away</th>\n",
              "    </tr>\n",
              "  </thead>\n",
              "  <tbody>\n",
              "    <tr>\n",
              "      <th>0</th>\n",
              "      <td>2021-11-17</td>\n",
              "      <td>22100213</td>\n",
              "      <td>2021</td>\n",
              "      <td>1610612766</td>\n",
              "      <td>Charlotte</td>\n",
              "      <td>1610612764</td>\n",
              "      <td>Washington</td>\n",
              "      <td>1</td>\n",
              "      <td>109.1</td>\n",
              "      <td>0.4418</td>\n",
              "      <td>...</td>\n",
              "      <td>0.518135</td>\n",
              "      <td>105.7</td>\n",
              "      <td>0.4580</td>\n",
              "      <td>0.7862</td>\n",
              "      <td>0.3297</td>\n",
              "      <td>24.9</td>\n",
              "      <td>47.5</td>\n",
              "      <td>0.7299</td>\n",
              "      <td>0.876429</td>\n",
              "      <td>0.583810</td>\n",
              "    </tr>\n",
              "    <tr>\n",
              "      <th>1</th>\n",
              "      <td>2021-11-17</td>\n",
              "      <td>22100214</td>\n",
              "      <td>2021</td>\n",
              "      <td>1610612765</td>\n",
              "      <td>Detroit</td>\n",
              "      <td>1610612754</td>\n",
              "      <td>Indiana</td>\n",
              "      <td>1</td>\n",
              "      <td>99.9</td>\n",
              "      <td>0.4088</td>\n",
              "      <td>...</td>\n",
              "      <td>0.122381</td>\n",
              "      <td>103.6</td>\n",
              "      <td>0.4687</td>\n",
              "      <td>0.7129</td>\n",
              "      <td>0.3408</td>\n",
              "      <td>23.3</td>\n",
              "      <td>44.7</td>\n",
              "      <td>0.3312</td>\n",
              "      <td>0.583333</td>\n",
              "      <td>0.123175</td>\n",
              "    </tr>\n",
              "    <tr>\n",
              "      <th>2</th>\n",
              "      <td>2021-11-17</td>\n",
              "      <td>22100215</td>\n",
              "      <td>2021</td>\n",
              "      <td>1610612737</td>\n",
              "      <td>Atlanta</td>\n",
              "      <td>1610612738</td>\n",
              "      <td>Boston</td>\n",
              "      <td>1</td>\n",
              "      <td>110.7</td>\n",
              "      <td>0.4605</td>\n",
              "      <td>...</td>\n",
              "      <td>0.152897</td>\n",
              "      <td>102.9</td>\n",
              "      <td>0.4414</td>\n",
              "      <td>0.7932</td>\n",
              "      <td>0.2994</td>\n",
              "      <td>21.3</td>\n",
              "      <td>45.6</td>\n",
              "      <td>0.4222</td>\n",
              "      <td>0.185000</td>\n",
              "      <td>0.553651</td>\n",
              "    </tr>\n",
              "    <tr>\n",
              "      <th>3</th>\n",
              "      <td>2021-11-17</td>\n",
              "      <td>22100216</td>\n",
              "      <td>2021</td>\n",
              "      <td>1610612751</td>\n",
              "      <td>Brooklyn</td>\n",
              "      <td>1610612739</td>\n",
              "      <td>Cleveland</td>\n",
              "      <td>1</td>\n",
              "      <td>111.2</td>\n",
              "      <td>0.4849</td>\n",
              "      <td>...</td>\n",
              "      <td>0.664762</td>\n",
              "      <td>101.4</td>\n",
              "      <td>0.4457</td>\n",
              "      <td>0.7831</td>\n",
              "      <td>0.3559</td>\n",
              "      <td>22.7</td>\n",
              "      <td>43.7</td>\n",
              "      <td>0.5725</td>\n",
              "      <td>0.590952</td>\n",
              "      <td>0.565198</td>\n",
              "    </tr>\n",
              "    <tr>\n",
              "      <th>4</th>\n",
              "      <td>2021-11-17</td>\n",
              "      <td>22100217</td>\n",
              "      <td>2021</td>\n",
              "      <td>1610612748</td>\n",
              "      <td>Miami</td>\n",
              "      <td>1610612740</td>\n",
              "      <td>New Orleans</td>\n",
              "      <td>1</td>\n",
              "      <td>109.9</td>\n",
              "      <td>0.4675</td>\n",
              "      <td>...</td>\n",
              "      <td>0.605635</td>\n",
              "      <td>101.5</td>\n",
              "      <td>0.4226</td>\n",
              "      <td>0.8341</td>\n",
              "      <td>0.3490</td>\n",
              "      <td>24.2</td>\n",
              "      <td>42.0</td>\n",
              "      <td>0.1131</td>\n",
              "      <td>0.042857</td>\n",
              "      <td>0.175754</td>\n",
              "    </tr>\n",
              "    <tr>\n",
              "      <th>...</th>\n",
              "      <td>...</td>\n",
              "      <td>...</td>\n",
              "      <td>...</td>\n",
              "      <td>...</td>\n",
              "      <td>...</td>\n",
              "      <td>...</td>\n",
              "      <td>...</td>\n",
              "      <td>...</td>\n",
              "      <td>...</td>\n",
              "      <td>...</td>\n",
              "      <td>...</td>\n",
              "      <td>...</td>\n",
              "      <td>...</td>\n",
              "      <td>...</td>\n",
              "      <td>...</td>\n",
              "      <td>...</td>\n",
              "      <td>...</td>\n",
              "      <td>...</td>\n",
              "      <td>...</td>\n",
              "      <td>...</td>\n",
              "      <td>...</td>\n",
              "    </tr>\n",
              "    <tr>\n",
              "      <th>24265</th>\n",
              "      <td>2014-10-11</td>\n",
              "      <td>11400037</td>\n",
              "      <td>2014</td>\n",
              "      <td>1610612749</td>\n",
              "      <td>Milwaukee</td>\n",
              "      <td>1610612741</td>\n",
              "      <td>Chicago</td>\n",
              "      <td>0</td>\n",
              "      <td>97.6</td>\n",
              "      <td>0.4643</td>\n",
              "      <td>...</td>\n",
              "      <td>0.114844</td>\n",
              "      <td>93.0</td>\n",
              "      <td>0.4323</td>\n",
              "      <td>0.7740</td>\n",
              "      <td>0.3228</td>\n",
              "      <td>22.1</td>\n",
              "      <td>42.1</td>\n",
              "      <td>0.5619</td>\n",
              "      <td>0.590976</td>\n",
              "      <td>0.516163</td>\n",
              "    </tr>\n",
              "    <tr>\n",
              "      <th>24266</th>\n",
              "      <td>2014-10-10</td>\n",
              "      <td>11400031</td>\n",
              "      <td>2014</td>\n",
              "      <td>1610612761</td>\n",
              "      <td>Toronto</td>\n",
              "      <td>1610612738</td>\n",
              "      <td>Boston</td>\n",
              "      <td>1</td>\n",
              "      <td>98.7</td>\n",
              "      <td>0.4527</td>\n",
              "      <td>...</td>\n",
              "      <td>0.429268</td>\n",
              "      <td>101.8</td>\n",
              "      <td>0.4560</td>\n",
              "      <td>0.7955</td>\n",
              "      <td>0.3578</td>\n",
              "      <td>23.8</td>\n",
              "      <td>38.8</td>\n",
              "      <td>0.3413</td>\n",
              "      <td>0.453356</td>\n",
              "      <td>0.193946</td>\n",
              "    </tr>\n",
              "    <tr>\n",
              "      <th>24267</th>\n",
              "      <td>2014-10-10</td>\n",
              "      <td>11400029</td>\n",
              "      <td>2014</td>\n",
              "      <td>1610612750</td>\n",
              "      <td>Minnesota</td>\n",
              "      <td>1610612755</td>\n",
              "      <td>Philadelphia</td>\n",
              "      <td>1</td>\n",
              "      <td>109.4</td>\n",
              "      <td>0.4610</td>\n",
              "      <td>...</td>\n",
              "      <td>0.364797</td>\n",
              "      <td>103.7</td>\n",
              "      <td>0.4849</td>\n",
              "      <td>0.7182</td>\n",
              "      <td>0.3257</td>\n",
              "      <td>22.2</td>\n",
              "      <td>37.3</td>\n",
              "      <td>0.2307</td>\n",
              "      <td>0.308619</td>\n",
              "      <td>0.185649</td>\n",
              "    </tr>\n",
              "    <tr>\n",
              "      <th>24268</th>\n",
              "      <td>2014-10-09</td>\n",
              "      <td>11400024</td>\n",
              "      <td>2014</td>\n",
              "      <td>1610612757</td>\n",
              "      <td>Portland</td>\n",
              "      <td>1610612762</td>\n",
              "      <td>Utah</td>\n",
              "      <td>0</td>\n",
              "      <td>101.8</td>\n",
              "      <td>0.4358</td>\n",
              "      <td>...</td>\n",
              "      <td>0.504878</td>\n",
              "      <td>100.6</td>\n",
              "      <td>0.4638</td>\n",
              "      <td>0.7190</td>\n",
              "      <td>0.2997</td>\n",
              "      <td>22.4</td>\n",
              "      <td>43.0</td>\n",
              "      <td>0.3759</td>\n",
              "      <td>0.465492</td>\n",
              "      <td>0.286648</td>\n",
              "    </tr>\n",
              "    <tr>\n",
              "      <th>24269</th>\n",
              "      <td>2014-10-07</td>\n",
              "      <td>11400010</td>\n",
              "      <td>2014</td>\n",
              "      <td>1610612758</td>\n",
              "      <td>Sacramento</td>\n",
              "      <td>1610612761</td>\n",
              "      <td>Toronto</td>\n",
              "      <td>1</td>\n",
              "      <td>97.9</td>\n",
              "      <td>0.4511</td>\n",
              "      <td>...</td>\n",
              "      <td>0.250498</td>\n",
              "      <td>98.1</td>\n",
              "      <td>0.4496</td>\n",
              "      <td>0.7723</td>\n",
              "      <td>0.3279</td>\n",
              "      <td>19.3</td>\n",
              "      <td>41.8</td>\n",
              "      <td>0.5773</td>\n",
              "      <td>0.670732</td>\n",
              "      <td>0.484268</td>\n",
              "    </tr>\n",
              "  </tbody>\n",
              "</table>\n",
              "<p>24270 rows × 26 columns</p>\n",
              "</div>\n",
              "      <button class=\"colab-df-convert\" onclick=\"convertToInteractive('df-208e1e4b-0674-42ad-8062-02759716b20e')\"\n",
              "              title=\"Convert this dataframe to an interactive table.\"\n",
              "              style=\"display:none;\">\n",
              "        \n",
              "  <svg xmlns=\"http://www.w3.org/2000/svg\" height=\"24px\"viewBox=\"0 0 24 24\"\n",
              "       width=\"24px\">\n",
              "    <path d=\"M0 0h24v24H0V0z\" fill=\"none\"/>\n",
              "    <path d=\"M18.56 5.44l.94 2.06.94-2.06 2.06-.94-2.06-.94-.94-2.06-.94 2.06-2.06.94zm-11 1L8.5 8.5l.94-2.06 2.06-.94-2.06-.94L8.5 2.5l-.94 2.06-2.06.94zm10 10l.94 2.06.94-2.06 2.06-.94-2.06-.94-.94-2.06-.94 2.06-2.06.94z\"/><path d=\"M17.41 7.96l-1.37-1.37c-.4-.4-.92-.59-1.43-.59-.52 0-1.04.2-1.43.59L10.3 9.45l-7.72 7.72c-.78.78-.78 2.05 0 2.83L4 21.41c.39.39.9.59 1.41.59.51 0 1.02-.2 1.41-.59l7.78-7.78 2.81-2.81c.8-.78.8-2.07 0-2.86zM5.41 20L4 18.59l7.72-7.72 1.47 1.35L5.41 20z\"/>\n",
              "  </svg>\n",
              "      </button>\n",
              "      \n",
              "  <style>\n",
              "    .colab-df-container {\n",
              "      display:flex;\n",
              "      flex-wrap:wrap;\n",
              "      gap: 12px;\n",
              "    }\n",
              "\n",
              "    .colab-df-convert {\n",
              "      background-color: #E8F0FE;\n",
              "      border: none;\n",
              "      border-radius: 50%;\n",
              "      cursor: pointer;\n",
              "      display: none;\n",
              "      fill: #1967D2;\n",
              "      height: 32px;\n",
              "      padding: 0 0 0 0;\n",
              "      width: 32px;\n",
              "    }\n",
              "\n",
              "    .colab-df-convert:hover {\n",
              "      background-color: #E2EBFA;\n",
              "      box-shadow: 0px 1px 2px rgba(60, 64, 67, 0.3), 0px 1px 3px 1px rgba(60, 64, 67, 0.15);\n",
              "      fill: #174EA6;\n",
              "    }\n",
              "\n",
              "    [theme=dark] .colab-df-convert {\n",
              "      background-color: #3B4455;\n",
              "      fill: #D2E3FC;\n",
              "    }\n",
              "\n",
              "    [theme=dark] .colab-df-convert:hover {\n",
              "      background-color: #434B5C;\n",
              "      box-shadow: 0px 1px 3px 1px rgba(0, 0, 0, 0.15);\n",
              "      filter: drop-shadow(0px 1px 2px rgba(0, 0, 0, 0.3));\n",
              "      fill: #FFFFFF;\n",
              "    }\n",
              "  </style>\n",
              "\n",
              "      <script>\n",
              "        const buttonEl =\n",
              "          document.querySelector('#df-208e1e4b-0674-42ad-8062-02759716b20e button.colab-df-convert');\n",
              "        buttonEl.style.display =\n",
              "          google.colab.kernel.accessAllowed ? 'block' : 'none';\n",
              "\n",
              "        async function convertToInteractive(key) {\n",
              "          const element = document.querySelector('#df-208e1e4b-0674-42ad-8062-02759716b20e');\n",
              "          const dataTable =\n",
              "            await google.colab.kernel.invokeFunction('convertToInteractive',\n",
              "                                                     [key], {});\n",
              "          if (!dataTable) return;\n",
              "\n",
              "          const docLinkHtml = 'Like what you see? Visit the ' +\n",
              "            '<a target=\"_blank\" href=https://colab.research.google.com/notebooks/data_table.ipynb>data table notebook</a>'\n",
              "            + ' to learn more about interactive tables.';\n",
              "          element.innerHTML = '';\n",
              "          dataTable['output_type'] = 'display_data';\n",
              "          await google.colab.output.renderOutput(dataTable, element);\n",
              "          const docLink = document.createElement('div');\n",
              "          docLink.innerHTML = docLinkHtml;\n",
              "          element.appendChild(docLink);\n",
              "        }\n",
              "      </script>\n",
              "    </div>\n",
              "  </div>\n",
              "  "
            ]
          },
          "metadata": {},
          "execution_count": 21
        }
      ]
    },
    {
      "cell_type": "markdown",
      "source": [
        "From this point onward, we will exclusively use our newly constructed feature varirables in our analysis."
      ],
      "metadata": {
        "id": "XXpHXTMBK5pp"
      }
    },
    {
      "cell_type": "markdown",
      "source": [
        "# Part 3: Exploratory Data Analysis"
      ],
      "metadata": {
        "id": "1bOmcP2bs2U2"
      }
    },
    {
      "cell_type": "markdown",
      "source": [
        "The first step that we took in our exploration was constructing a correlation heat map between our feature inputs. In the matrix, it is apparent that the level of correlation between our feature variables is not particularly significant. "
      ],
      "metadata": {
        "id": "JxNUmPsDLNMB"
      }
    },
    {
      "cell_type": "code",
      "source": [
        "# Keep only stats for data exploration (features and label)\n",
        "numerics = list(final_game_stats_ma.select_dtypes(include = ['int64', 'float64'])\n",
        "                .drop(['GAME_ID', 'SEASON', 'TEAM_ID_home', 'TEAM_ID_away'], axis = 1))\n",
        "\n",
        "corr = final_game_stats_ma[numerics].corr()\n",
        "heatmap = sns.heatmap(corr, mask = np.triu(np.ones_like(corr, dtype = bool)))\n",
        "heatmap"
      ],
      "metadata": {
        "id": "8LF6-6HCAE-i",
        "colab": {
          "base_uri": "https://localhost:8080/",
          "height": 385
        },
        "outputId": "7f844972-8b5b-4bbd-cc8b-832572f9f2af"
      },
      "execution_count": 22,
      "outputs": [
        {
          "output_type": "execute_result",
          "data": {
            "text/plain": [
              "<matplotlib.axes._subplots.AxesSubplot at 0x7fc6f14b4ed0>"
            ]
          },
          "metadata": {},
          "execution_count": 22
        },
        {
          "output_type": "display_data",
          "data": {
            "text/plain": [
              "<Figure size 432x288 with 2 Axes>"
            ],
            "image/png": "[encoded data removed]"
          },
          "metadata": {
            "needs_background": "light"
          }
        }
      ]
    },
    {
      "cell_type": "markdown",
      "source": [
        "We proceed to divide our dataset into features and label, which will be useful for exploring the features individually and to train our models later on."
      ],
      "metadata": {
        "id": "WO2SC8ftcI5K"
      }
    },
    {
      "cell_type": "code",
      "source": [
        "# Divide data set between features and label and get rid of unrelated categorical variables\n",
        "label = final_game_stats_ma['HOME_TEAM_WIN']\n",
        "\n",
        "features = final_game_stats_ma.drop(['GAME_DATE_EST',\t'GAME_ID',\t'SEASON',\t'TEAM_ID_home',\t'TEAM_home', \n",
        "                                     'TEAM_ID_away', 'TEAM_away', 'HOME_TEAM_WIN'], axis = 1)"
      ],
      "metadata": {
        "id": "iqItuBwHlcpK"
      },
      "execution_count": 23,
      "outputs": []
    },
    {
      "cell_type": "markdown",
      "source": [
        "Exploring our feature variables..."
      ],
      "metadata": {
        "id": "PjnvwYPpccGw"
      }
    },
    {
      "cell_type": "code",
      "source": [
        "# Taking a look at the stats for feature variables\n",
        "np.round(features.describe(), 2)"
      ],
      "metadata": {
        "id": "lUUygrlZty3f",
        "colab": {
          "base_uri": "https://localhost:8080/",
          "height": 300
        },
        "outputId": "87e3f00e-fff6-4279-e496-9a88568976f7"
      },
      "execution_count": 24,
      "outputs": [
        {
          "output_type": "execute_result",
          "data": {
            "text/plain": [
              "       PTS_MA10_home  FG_PCT_MA10_home  FT_PCT_MA10_home  FG3_PCT_MA10_home  \\\n",
              "count       24270.00          24270.00          24270.00           24270.00   \n",
              "mean          101.72              0.46              0.76               0.35   \n",
              "std             7.77              0.02              0.04               0.04   \n",
              "min            66.50              0.27              0.52               0.11   \n",
              "25%            96.10              0.44              0.73               0.33   \n",
              "50%           101.20              0.46              0.76               0.35   \n",
              "75%           106.90              0.47              0.79               0.38   \n",
              "max           129.90              0.54              1.00               0.51   \n",
              "\n",
              "       AST_MA10_home  REB_MA10_home  W_PCT_MA10_home  H_W_PCT_MA10_home  \\\n",
              "count       24270.00       24270.00         24270.00           24270.00   \n",
              "mean           22.13          42.66             0.51               0.60   \n",
              "std             2.72           2.95             0.17               0.20   \n",
              "min            14.00          32.50             0.00               0.00   \n",
              "25%            20.20          40.70             0.39               0.46   \n",
              "50%            22.00          42.60             0.52               0.61   \n",
              "75%            23.90          44.60             0.63               0.74   \n",
              "max            34.40          56.00             1.00               1.00   \n",
              "\n",
              "       A_W_PCT_MA10_home  PTS_MA10_away  FG_PCT_MA10_away  FT_PCT_MA10_away  \\\n",
              "count           24270.00       24270.00          24270.00          24270.00   \n",
              "mean                0.42         101.60              0.45              0.76   \n",
              "std                 0.19           7.92              0.02              0.04   \n",
              "min                 0.00          56.00              0.28              0.56   \n",
              "25%                 0.29          95.90              0.44              0.73   \n",
              "50%                 0.42         101.00              0.45              0.76   \n",
              "75%                 0.56         106.90              0.47              0.79   \n",
              "max                 1.00         131.10              0.55              0.94   \n",
              "\n",
              "       FG3_PCT_MA10_away  AST_MA10_away  REB_MA10_away  W_PCT_MA10_away  \\\n",
              "count           24270.00       24270.00       24270.00         24270.00   \n",
              "mean                0.35          22.02          42.64             0.51   \n",
              "std                 0.04           2.72           2.94             0.17   \n",
              "min                 0.08          10.00          29.00             0.00   \n",
              "25%                 0.33          20.10          40.70             0.40   \n",
              "50%                 0.35          21.80          42.50             0.52   \n",
              "75%                 0.38          23.70          44.60             0.63   \n",
              "max                 0.60          34.10          54.40             1.00   \n",
              "\n",
              "       H_W_PCT_MA10_away  A_W_PCT_MA10_away  \n",
              "count           24270.00           24270.00  \n",
              "mean                0.60               0.42  \n",
              "std                 0.20               0.19  \n",
              "min                 0.00               0.00  \n",
              "25%                 0.47               0.28  \n",
              "50%                 0.61               0.42  \n",
              "75%                 0.74               0.56  \n",
              "max                 1.00               1.00  "
            ],
            "text/html": [
              "\n",
              "  <div id=\"df-c2a9b139-c061-46e5-869c-510cc675e674\">\n",
              "    <div class=\"colab-df-container\">\n",
              "      <div>\n",
              "<style scoped>\n",
              "    .dataframe tbody tr th:only-of-type {\n",
              "        vertical-align: middle;\n",
              "    }\n",
              "\n",
              "    .dataframe tbody tr th {\n",
              "        vertical-align: top;\n",
              "    }\n",
              "\n",
              "    .dataframe thead th {\n",
              "        text-align: right;\n",
              "    }\n",
              "</style>\n",
              "<table border=\"1\" class=\"dataframe\">\n",
              "  <thead>\n",
              "    <tr style=\"text-align: right;\">\n",
              "      <th></th>\n",
              "      <th>PTS_MA10_home</th>\n",
              "      <th>FG_PCT_MA10_home</th>\n",
              "      <th>FT_PCT_MA10_home</th>\n",
              "      <th>FG3_PCT_MA10_home</th>\n",
              "      <th>AST_MA10_home</th>\n",
              "      <th>REB_MA10_home</th>\n",
              "      <th>W_PCT_MA10_home</th>\n",
              "      <th>H_W_PCT_MA10_home</th>\n",
              "      <th>A_W_PCT_MA10_home</th>\n",
              "      <th>PTS_MA10_away</th>\n",
              "      <th>FG_PCT_MA10_away</th>\n",
              "      <th>FT_PCT_MA10_away</th>\n",
              "      <th>FG3_PCT_MA10_away</th>\n",
              "      <th>AST_MA10_away</th>\n",
              "      <th>REB_MA10_away</th>\n",
              "      <th>W_PCT_MA10_away</th>\n",
              "      <th>H_W_PCT_MA10_away</th>\n",
              "      <th>A_W_PCT_MA10_away</th>\n",
              "    </tr>\n",
              "  </thead>\n",
              "  <tbody>\n",
              "    <tr>\n",
              "      <th>count</th>\n",
              "      <td>24270.00</td>\n",
              "      <td>24270.00</td>\n",
              "      <td>24270.00</td>\n",
              "      <td>24270.00</td>\n",
              "      <td>24270.00</td>\n",
              "      <td>24270.00</td>\n",
              "      <td>24270.00</td>\n",
              "      <td>24270.00</td>\n",
              "      <td>24270.00</td>\n",
              "      <td>24270.00</td>\n",
              "      <td>24270.00</td>\n",
              "      <td>24270.00</td>\n",
              "      <td>24270.00</td>\n",
              "      <td>24270.00</td>\n",
              "      <td>24270.00</td>\n",
              "      <td>24270.00</td>\n",
              "      <td>24270.00</td>\n",
              "      <td>24270.00</td>\n",
              "    </tr>\n",
              "    <tr>\n",
              "      <th>mean</th>\n",
              "      <td>101.72</td>\n",
              "      <td>0.46</td>\n",
              "      <td>0.76</td>\n",
              "      <td>0.35</td>\n",
              "      <td>22.13</td>\n",
              "      <td>42.66</td>\n",
              "      <td>0.51</td>\n",
              "      <td>0.60</td>\n",
              "      <td>0.42</td>\n",
              "      <td>101.60</td>\n",
              "      <td>0.45</td>\n",
              "      <td>0.76</td>\n",
              "      <td>0.35</td>\n",
              "      <td>22.02</td>\n",
              "      <td>42.64</td>\n",
              "      <td>0.51</td>\n",
              "      <td>0.60</td>\n",
              "      <td>0.42</td>\n",
              "    </tr>\n",
              "    <tr>\n",
              "      <th>std</th>\n",
              "      <td>7.77</td>\n",
              "      <td>0.02</td>\n",
              "      <td>0.04</td>\n",
              "      <td>0.04</td>\n",
              "      <td>2.72</td>\n",
              "      <td>2.95</td>\n",
              "      <td>0.17</td>\n",
              "      <td>0.20</td>\n",
              "      <td>0.19</td>\n",
              "      <td>7.92</td>\n",
              "      <td>0.02</td>\n",
              "      <td>0.04</td>\n",
              "      <td>0.04</td>\n",
              "      <td>2.72</td>\n",
              "      <td>2.94</td>\n",
              "      <td>0.17</td>\n",
              "      <td>0.20</td>\n",
              "      <td>0.19</td>\n",
              "    </tr>\n",
              "    <tr>\n",
              "      <th>min</th>\n",
              "      <td>66.50</td>\n",
              "      <td>0.27</td>\n",
              "      <td>0.52</td>\n",
              "      <td>0.11</td>\n",
              "      <td>14.00</td>\n",
              "      <td>32.50</td>\n",
              "      <td>0.00</td>\n",
              "      <td>0.00</td>\n",
              "      <td>0.00</td>\n",
              "      <td>56.00</td>\n",
              "      <td>0.28</td>\n",
              "      <td>0.56</td>\n",
              "      <td>0.08</td>\n",
              "      <td>10.00</td>\n",
              "      <td>29.00</td>\n",
              "      <td>0.00</td>\n",
              "      <td>0.00</td>\n",
              "      <td>0.00</td>\n",
              "    </tr>\n",
              "    <tr>\n",
              "      <th>25%</th>\n",
              "      <td>96.10</td>\n",
              "      <td>0.44</td>\n",
              "      <td>0.73</td>\n",
              "      <td>0.33</td>\n",
              "      <td>20.20</td>\n",
              "      <td>40.70</td>\n",
              "      <td>0.39</td>\n",
              "      <td>0.46</td>\n",
              "      <td>0.29</td>\n",
              "      <td>95.90</td>\n",
              "      <td>0.44</td>\n",
              "      <td>0.73</td>\n",
              "      <td>0.33</td>\n",
              "      <td>20.10</td>\n",
              "      <td>40.70</td>\n",
              "      <td>0.40</td>\n",
              "      <td>0.47</td>\n",
              "      <td>0.28</td>\n",
              "    </tr>\n",
              "    <tr>\n",
              "      <th>50%</th>\n",
              "      <td>101.20</td>\n",
              "      <td>0.46</td>\n",
              "      <td>0.76</td>\n",
              "      <td>0.35</td>\n",
              "      <td>22.00</td>\n",
              "      <td>42.60</td>\n",
              "      <td>0.52</td>\n",
              "      <td>0.61</td>\n",
              "      <td>0.42</td>\n",
              "      <td>101.00</td>\n",
              "      <td>0.45</td>\n",
              "      <td>0.76</td>\n",
              "      <td>0.35</td>\n",
              "      <td>21.80</td>\n",
              "      <td>42.50</td>\n",
              "      <td>0.52</td>\n",
              "      <td>0.61</td>\n",
              "      <td>0.42</td>\n",
              "    </tr>\n",
              "    <tr>\n",
              "      <th>75%</th>\n",
              "      <td>106.90</td>\n",
              "      <td>0.47</td>\n",
              "      <td>0.79</td>\n",
              "      <td>0.38</td>\n",
              "      <td>23.90</td>\n",
              "      <td>44.60</td>\n",
              "      <td>0.63</td>\n",
              "      <td>0.74</td>\n",
              "      <td>0.56</td>\n",
              "      <td>106.90</td>\n",
              "      <td>0.47</td>\n",
              "      <td>0.79</td>\n",
              "      <td>0.38</td>\n",
              "      <td>23.70</td>\n",
              "      <td>44.60</td>\n",
              "      <td>0.63</td>\n",
              "      <td>0.74</td>\n",
              "      <td>0.56</td>\n",
              "    </tr>\n",
              "    <tr>\n",
              "      <th>max</th>\n",
              "      <td>129.90</td>\n",
              "      <td>0.54</td>\n",
              "      <td>1.00</td>\n",
              "      <td>0.51</td>\n",
              "      <td>34.40</td>\n",
              "      <td>56.00</td>\n",
              "      <td>1.00</td>\n",
              "      <td>1.00</td>\n",
              "      <td>1.00</td>\n",
              "      <td>131.10</td>\n",
              "      <td>0.55</td>\n",
              "      <td>0.94</td>\n",
              "      <td>0.60</td>\n",
              "      <td>34.10</td>\n",
              "      <td>54.40</td>\n",
              "      <td>1.00</td>\n",
              "      <td>1.00</td>\n",
              "      <td>1.00</td>\n",
              "    </tr>\n",
              "  </tbody>\n",
              "</table>\n",
              "</div>\n",
              "      <button class=\"colab-df-convert\" onclick=\"convertToInteractive('df-c2a9b139-c061-46e5-869c-510cc675e674')\"\n",
              "              title=\"Convert this dataframe to an interactive table.\"\n",
              "              style=\"display:none;\">\n",
              "        \n",
              "  <svg xmlns=\"http://www.w3.org/2000/svg\" height=\"24px\"viewBox=\"0 0 24 24\"\n",
              "       width=\"24px\">\n",
              "    <path d=\"M0 0h24v24H0V0z\" fill=\"none\"/>\n",
              "    <path d=\"M18.56 5.44l.94 2.06.94-2.06 2.06-.94-2.06-.94-.94-2.06-.94 2.06-2.06.94zm-11 1L8.5 8.5l.94-2.06 2.06-.94-2.06-.94L8.5 2.5l-.94 2.06-2.06.94zm10 10l.94 2.06.94-2.06 2.06-.94-2.06-.94-.94-2.06-.94 2.06-2.06.94z\"/><path d=\"M17.41 7.96l-1.37-1.37c-.4-.4-.92-.59-1.43-.59-.52 0-1.04.2-1.43.59L10.3 9.45l-7.72 7.72c-.78.78-.78 2.05 0 2.83L4 21.41c.39.39.9.59 1.41.59.51 0 1.02-.2 1.41-.59l7.78-7.78 2.81-2.81c.8-.78.8-2.07 0-2.86zM5.41 20L4 18.59l7.72-7.72 1.47 1.35L5.41 20z\"/>\n",
              "  </svg>\n",
              "      </button>\n",
              "      \n",
              "  <style>\n",
              "    .colab-df-container {\n",
              "      display:flex;\n",
              "      flex-wrap:wrap;\n",
              "      gap: 12px;\n",
              "    }\n",
              "\n",
              "    .colab-df-convert {\n",
              "      background-color: #E8F0FE;\n",
              "      border: none;\n",
              "      border-radius: 50%;\n",
              "      cursor: pointer;\n",
              "      display: none;\n",
              "      fill: #1967D2;\n",
              "      height: 32px;\n",
              "      padding: 0 0 0 0;\n",
              "      width: 32px;\n",
              "    }\n",
              "\n",
              "    .colab-df-convert:hover {\n",
              "      background-color: #E2EBFA;\n",
              "      box-shadow: 0px 1px 2px rgba(60, 64, 67, 0.3), 0px 1px 3px 1px rgba(60, 64, 67, 0.15);\n",
              "      fill: #174EA6;\n",
              "    }\n",
              "\n",
              "    [theme=dark] .colab-df-convert {\n",
              "      background-color: #3B4455;\n",
              "      fill: #D2E3FC;\n",
              "    }\n",
              "\n",
              "    [theme=dark] .colab-df-convert:hover {\n",
              "      background-color: #434B5C;\n",
              "      box-shadow: 0px 1px 3px 1px rgba(0, 0, 0, 0.15);\n",
              "      filter: drop-shadow(0px 1px 2px rgba(0, 0, 0, 0.3));\n",
              "      fill: #FFFFFF;\n",
              "    }\n",
              "  </style>\n",
              "\n",
              "      <script>\n",
              "        const buttonEl =\n",
              "          document.querySelector('#df-c2a9b139-c061-46e5-869c-510cc675e674 button.colab-df-convert');\n",
              "        buttonEl.style.display =\n",
              "          google.colab.kernel.accessAllowed ? 'block' : 'none';\n",
              "\n",
              "        async function convertToInteractive(key) {\n",
              "          const element = document.querySelector('#df-c2a9b139-c061-46e5-869c-510cc675e674');\n",
              "          const dataTable =\n",
              "            await google.colab.kernel.invokeFunction('convertToInteractive',\n",
              "                                                     [key], {});\n",
              "          if (!dataTable) return;\n",
              "\n",
              "          const docLinkHtml = 'Like what you see? Visit the ' +\n",
              "            '<a target=\"_blank\" href=https://colab.research.google.com/notebooks/data_table.ipynb>data table notebook</a>'\n",
              "            + ' to learn more about interactive tables.';\n",
              "          element.innerHTML = '';\n",
              "          dataTable['output_type'] = 'display_data';\n",
              "          await google.colab.output.renderOutput(dataTable, element);\n",
              "          const docLink = document.createElement('div');\n",
              "          docLink.innerHTML = docLinkHtml;\n",
              "          element.appendChild(docLink);\n",
              "        }\n",
              "      </script>\n",
              "    </div>\n",
              "  </div>\n",
              "  "
            ]
          },
          "metadata": {},
          "execution_count": 24
        }
      ]
    },
    {
      "cell_type": "markdown",
      "source": [
        "Plotting the distribution of our feature variables to assess whether rebalancing or scaling our data is needed. "
      ],
      "metadata": {
        "id": "2RnLeSAFcgpA"
      }
    },
    {
      "cell_type": "code",
      "source": [
        "fig, axs = plt.subplots(ncols=9, figsize=(30,6))\n",
        "sns.distplot(final_game_stats_ma['PTS_MA10_home'], ax=axs[0]);\n",
        "sns.distplot(final_game_stats_ma['FG_PCT_MA10_home'], ax=axs[1]);\n",
        "sns.distplot(final_game_stats_ma['FT_PCT_MA10_home'], ax=axs[2]);\n",
        "sns.distplot(final_game_stats_ma['FG3_PCT_MA10_home'], ax=axs[3]);\n",
        "sns.distplot(final_game_stats_ma['AST_MA10_home'], ax=axs[4]);\n",
        "sns.distplot(final_game_stats_ma['REB_MA10_home'], ax=axs[5]);\n",
        "sns.distplot(final_game_stats_ma['W_PCT_MA10_home'], ax=axs[6]);\n",
        "sns.distplot(final_game_stats_ma['H_W_PCT_MA10_home'], ax=axs[7]);\n",
        "sns.distplot(final_game_stats_ma['A_W_PCT_MA10_home'], ax=axs[8]);"
      ],
      "metadata": {
        "id": "SXk7UJ-Uwo5F",
        "colab": {
          "base_uri": "https://localhost:8080/",
          "height": 390
        },
        "outputId": "b0b6a5e6-e4e3-41f9-ec28-830f6703b946"
      },
      "execution_count": 25,
      "outputs": [
        {
          "output_type": "display_data",
          "data": {
            "text/plain": [
              "<Figure size 2160x432 with 9 Axes>"
            ],
            "image/png": "[encoded data removed]"
          },
          "metadata": {
            "needs_background": "light"
          }
        }
      ]
    },
    {
      "cell_type": "markdown",
      "source": [
        "We then plot scoring percentage stats against win percentages to determine the relationship between the variables and their relative importance."
      ],
      "metadata": {
        "id": "iVqDRbnLczGf"
      }
    },
    {
      "cell_type": "code",
      "source": [
        "# Explore relationships between scoring percentages and win percentages\n",
        "sns.jointplot('FG_PCT_MA10_home', 'W_PCT_MA10_home', data=final_game_stats_ma, kind='kde', height=4);\n",
        "sns.jointplot('FT_PCT_MA10_home', 'W_PCT_MA10_home', data=final_game_stats_ma, kind='kde', height=4);\n",
        "sns.jointplot('FG3_PCT_MA10_home', 'W_PCT_MA10_home', data=final_game_stats_ma, kind='kde', height=4);"
      ],
      "metadata": {
        "id": "qWhbi_42NLZ_",
        "colab": {
          "base_uri": "https://localhost:8080/",
          "height": 857
        },
        "outputId": "c8be9744-ceaa-40da-cded-ebcf854ec0ec"
      },
      "execution_count": 26,
      "outputs": [
        {
          "output_type": "display_data",
          "data": {
            "text/plain": [
              "<Figure size 288x288 with 3 Axes>"
            ],
            "image/png": "[encoded data removed]"
          },
          "metadata": {
            "needs_background": "light"
          }
        },
        {
          "output_type": "display_data",
          "data": {
            "text/plain": [
              "<Figure size 288x288 with 3 Axes>"
            ],
            "image/png": "[encoded data removed]"
          },
          "metadata": {
            "needs_background": "light"
          }
        },
        {
          "output_type": "display_data",
          "data": {
            "text/plain": [
              "<Figure size 288x288 with 3 Axes>"
            ],
            "image/png": "[encoded data removed]"
          },
          "metadata": {
            "needs_background": "light"
          }
        }
      ]
    },
    {
      "cell_type": "markdown",
      "source": [
        "# Part 4: Modeling"
      ],
      "metadata": {
        "id": "DC4656Iik8iq"
      }
    },
    {
      "cell_type": "markdown",
      "source": [
        "## 4.1. Train-Test Split"
      ],
      "metadata": {
        "id": "bnQaQ6KtnEZ7"
      }
    },
    {
      "cell_type": "markdown",
      "source": [
        "As with any of the machine learning models that we explored this semester, our data must be split into training sets and testing sets. We used the standard split of 80/20 so that our training data has a sufficient amount of instances to be trained on. "
      ],
      "metadata": {
        "id": "5Giwu3AaLV84"
      }
    },
    {
      "cell_type": "code",
      "source": [
        "from sklearn.model_selection import train_test_split\n",
        "\n",
        "# Create test and train sets (80/20 split)\n",
        "x_train, x_test, y_train, y_test = train_test_split(features, label, test_size = 0.2)"
      ],
      "metadata": {
        "id": "Hj7bd-4ymrPs"
      },
      "execution_count": 27,
      "outputs": []
    },
    {
      "cell_type": "markdown",
      "source": [
        "## 4.2. Random Forest Classifier Model"
      ],
      "metadata": {
        "id": "hwdABmrpHy-9"
      }
    },
    {
      "cell_type": "markdown",
      "source": [
        "The first model that we decided to run was a Random Forest model since it allows us to perform binary classification and it incorporates the concept of ensembling to further refine our predictions. Before exploring the hyperparameters, we chose to run a naive version of the model to give us an idea of how accurate our moving average features were in predicting home team outcomes."
      ],
      "metadata": {
        "id": "h91fqSv3H2Xq"
      }
    },
    {
      "cell_type": "code",
      "source": [
        "from sklearn import metrics\n",
        "from sklearn.ensemble import RandomForestClassifier\n",
        "\n",
        "rf = RandomForestClassifier(max_depth = None, random_state = 1018)\n",
        "rf.fit(x_train, y_train)\n",
        "y_pred_rf = rf.predict(x_test)"
      ],
      "metadata": {
        "id": "nmQ5x7jJHk1O"
      },
      "execution_count": 28,
      "outputs": []
    },
    {
      "cell_type": "code",
      "source": [
        "# Print accuracy vs test set \n",
        "print(metrics.accuracy_score(y_test, y_pred_rf))"
      ],
      "metadata": {
        "id": "hGK-WyC2XpHa",
        "colab": {
          "base_uri": "https://localhost:8080/"
        },
        "outputId": "06d14828-34ee-4b48-d447-6d6662e6ed61"
      },
      "execution_count": 29,
      "outputs": [
        {
          "output_type": "stream",
          "name": "stdout",
          "text": [
            "0.6837659662134322\n"
          ]
        }
      ]
    },
    {
      "cell_type": "markdown",
      "source": [
        "Solely setting an arbitrary random_state, the Random Forest model predicted home team outcomes with a 68.6% accuracy level! This was exciting as it proved our model was accurate with little evidence of overfitting. "
      ],
      "metadata": {
        "id": "flBf-9BCLn2E"
      }
    },
    {
      "cell_type": "code",
      "source": [
        "from pprint import pprint\n",
        "from matplotlib import pyplot as plt\n",
        "\n",
        "# Plotting the importance of each feature in our model\n",
        "rf.feature_importances_\n",
        "sorted_id = rf.feature_importances_.argsort()\n",
        "plt.barh(features.columns[sorted_id], rf.feature_importances_[sorted_id])\n",
        "plt.xlabel(\"Random Forest Feature Importance\")\n",
        "plt.ylabel(\"Features\")"
      ],
      "metadata": {
        "id": "dSjTSuXWLScn",
        "colab": {
          "base_uri": "https://localhost:8080/",
          "height": 296
        },
        "outputId": "9505a6b5-2b24-4373-f710-c292f5137d7e"
      },
      "execution_count": 30,
      "outputs": [
        {
          "output_type": "execute_result",
          "data": {
            "text/plain": [
              "Text(0, 0.5, 'Features')"
            ]
          },
          "metadata": {},
          "execution_count": 30
        },
        {
          "output_type": "display_data",
          "data": {
            "text/plain": [
              "<Figure size 432x288 with 1 Axes>"
            ],
            "image/png": "[encoded data removed]"
          },
          "metadata": {
            "needs_background": "light"
          }
        }
      ]
    },
    {
      "cell_type": "markdown",
      "source": [
        "Baed on this output, we were able to predict the outcome of games in our test sample with ~68% accuracy which is quite accurate given the variability in game outcomes. \n",
        "\n",
        "Let's try tuning the hyperparameters usiing cross-validation to see if we can induce a model that is even more accurate. "
      ],
      "metadata": {
        "id": "FVniURHgMVzW"
      }
    },
    {
      "cell_type": "code",
      "source": [
        "# Check parameters of our RF\n",
        "pprint(rf.get_params())\n",
        "rf.get_params().keys()"
      ],
      "metadata": {
        "id": "JfSTgyMzN11S",
        "colab": {
          "base_uri": "https://localhost:8080/"
        },
        "outputId": "83524cc9-b8d5-46e2-9810-2b9d839ef54d"
      },
      "execution_count": 31,
      "outputs": [
        {
          "output_type": "stream",
          "name": "stdout",
          "text": [
            "{'bootstrap': True,\n",
            " 'ccp_alpha': 0.0,\n",
            " 'class_weight': None,\n",
            " 'criterion': 'gini',\n",
            " 'max_depth': None,\n",
            " 'max_features': 'auto',\n",
            " 'max_leaf_nodes': None,\n",
            " 'max_samples': None,\n",
            " 'min_impurity_decrease': 0.0,\n",
            " 'min_samples_leaf': 1,\n",
            " 'min_samples_split': 2,\n",
            " 'min_weight_fraction_leaf': 0.0,\n",
            " 'n_estimators': 100,\n",
            " 'n_jobs': None,\n",
            " 'oob_score': False,\n",
            " 'random_state': 1018,\n",
            " 'verbose': 0,\n",
            " 'warm_start': False}\n"
          ]
        },
        {
          "output_type": "execute_result",
          "data": {
            "text/plain": [
              "dict_keys(['bootstrap', 'ccp_alpha', 'class_weight', 'criterion', 'max_depth', 'max_features', 'max_leaf_nodes', 'max_samples', 'min_impurity_decrease', 'min_samples_leaf', 'min_samples_split', 'min_weight_fraction_leaf', 'n_estimators', 'n_jobs', 'oob_score', 'random_state', 'verbose', 'warm_start'])"
            ]
          },
          "metadata": {},
          "execution_count": 31
        }
      ]
    },
    {
      "cell_type": "markdown",
      "source": [
        "We wll adjust bootstrap, max depth, max_features and n_estimators in this step of our exploration by using RandomizedSearchCV "
      ],
      "metadata": {
        "id": "EcupUEy1dMnz"
      }
    },
    {
      "cell_type": "code",
      "source": [
        "# *Runtime warning: this cell takes a long time to run, output parameters from this cell can be found below*\n",
        "\n",
        "from sklearn.model_selection import RandomizedSearchCV\n",
        "from sklearn.ensemble import RandomForestRegressor\n",
        "\n",
        "bootstrap = [True, False] # Sampling with or without replacement\n",
        "max_depth = [10, 20, 40] # Controlling for the maximum number of levels in our forest\n",
        "max_features = ['auto', 'sqrt'] # Reducing the number of features considered per split, could help reduce overfitting\n",
        "n_estimators = [100, 200, 300] # Controlling for the maximum number of splits in our random forest\n",
        "min_samples_split = [2, 5, 10] # Controlling for the amount of splits and will also likely reduce the number of total splits\n",
        "\n",
        "parameter_grid = {'bootstrap': bootstrap,\n",
        "                  'max_depth': max_depth,\n",
        "                  'max_features': max_features,\n",
        "                  'n_estimators': n_estimators,\n",
        "                  'min_samples_split': min_samples_split}\n",
        "\n",
        "# Now that our grid is defined we can use RandomizedSearchCV to search for the best fitting model given each combination of the parameters described\n",
        "rf = RandomForestClassifier()\n",
        "rf_search = RandomizedSearchCV(estimator = rf, param_distributions = parameter_grid, n_iter = 100, cv = 3,\n",
        "                               n_jobs = -1, random_state = 1018)\n",
        "\n",
        "rf_search.fit(x_train, y_train)\n"
      ],
      "metadata": {
        "id": "VfeRmsQYOZl2",
        "colab": {
          "base_uri": "https://localhost:8080/"
        },
        "outputId": "a4cd649b-f42d-4165-8377-009c7eb25e33"
      },
      "execution_count": 32,
      "outputs": [
        {
          "output_type": "execute_result",
          "data": {
            "text/plain": [
              "RandomizedSearchCV(cv=3, estimator=RandomForestClassifier(), n_iter=100,\n",
              "                   n_jobs=-1,\n",
              "                   param_distributions={'bootstrap': [True, False],\n",
              "                                        'max_depth': [10, 20, 40],\n",
              "                                        'max_features': ['auto', 'sqrt'],\n",
              "                                        'min_samples_split': [2, 5, 10],\n",
              "                                        'n_estimators': [100, 200, 300]},\n",
              "                   random_state=1018)"
            ]
          },
          "metadata": {},
          "execution_count": 32
        }
      ]
    },
    {
      "cell_type": "markdown",
      "source": [
        "Output best parameters obtained from RandomizedSearchCV"
      ],
      "metadata": {
        "id": "1oaLaWkidSKl"
      }
    },
    {
      "cell_type": "code",
      "source": [
        "rf_search.best_params_"
      ],
      "metadata": {
        "id": "gSgkZajHRoDp",
        "colab": {
          "base_uri": "https://localhost:8080/"
        },
        "outputId": "d7424e55-1c0d-43a9-d30b-4344ea45d9c1"
      },
      "execution_count": 33,
      "outputs": [
        {
          "output_type": "execute_result",
          "data": {
            "text/plain": [
              "{'n_estimators': 100,\n",
              " 'min_samples_split': 5,\n",
              " 'max_features': 'sqrt',\n",
              " 'max_depth': 10,\n",
              " 'bootstrap': False}"
            ]
          },
          "metadata": {},
          "execution_count": 33
        }
      ]
    },
    {
      "cell_type": "markdown",
      "source": [
        "Fit and train the model again using the new parameters and assess whether it improves prediction accuracy"
      ],
      "metadata": {
        "id": "XnZjrhcwdbPn"
      }
    },
    {
      "cell_type": "code",
      "source": [
        "# Run Random Forest again with best parameters\n",
        "rf_best = RandomForestClassifier(n_estimators = 100, max_depth = 10, min_samples_split = 10, random_state = 1018)\n",
        "rf_best.fit(x_train, y_train)\n",
        "y_pred_rf_best = rf_best.predict(x_test)\n",
        "\n",
        "# Print accuracy vs. test set\n",
        "print(metrics.accuracy_score(y_test, y_pred_rf_best))"
      ],
      "metadata": {
        "id": "JLGjVBvvN0ZW",
        "colab": {
          "base_uri": "https://localhost:8080/"
        },
        "outputId": "165f55b8-2c55-47f4-cb99-3bc3941b0ddd"
      },
      "execution_count": 34,
      "outputs": [
        {
          "output_type": "stream",
          "name": "stdout",
          "text": [
            "0.6938607334157396\n"
          ]
        }
      ]
    },
    {
      "cell_type": "markdown",
      "source": [
        "Running the random forest with the best parameters found by the RandomizedSearchCV slightly improves accuracy to ~69%"
      ],
      "metadata": {
        "id": "hPjkOrmdX2e6"
      }
    },
    {
      "cell_type": "markdown",
      "source": [
        "## 4.3. Logistic Regression Model "
      ],
      "metadata": {
        "id": "QGVpXicKav5t"
      }
    },
    {
      "cell_type": "markdown",
      "source": [
        "Following the satisfactory accuracy level obtained from our tuned Random Forest model, we will run a Logistic Regression model, which adequately fits our binary classification task, in a similar fashion as above to complement our previous findings. "
      ],
      "metadata": {
        "id": "rZSgmZo7d2xc"
      }
    },
    {
      "cell_type": "markdown",
      "source": [
        "We start by running the Logistic Regression model with the default parameters"
      ],
      "metadata": {
        "id": "hGOCacy3eYDn"
      }
    },
    {
      "cell_type": "code",
      "source": [
        "from sklearn.linear_model import LogisticRegression \n",
        "from sklearn import metrics\n",
        "\n",
        "# Initial model with default parameters\n",
        "lr = LogisticRegression(random_state = 1018)\n",
        "lr.fit(x_train, y_train)\n",
        "\n",
        "y_pred_lr = lr.predict(x_test)\n",
        "\n",
        "# Print accuracy score\n",
        "print(metrics.accuracy_score(y_test, y_pred_lr))"
      ],
      "metadata": {
        "id": "fXWYGgZQbBy0",
        "colab": {
          "base_uri": "https://localhost:8080/"
        },
        "outputId": "a3ba4717-c36b-4e22-8a38-df28266ead0e"
      },
      "execution_count": 35,
      "outputs": [
        {
          "output_type": "stream",
          "name": "stdout",
          "text": [
            "0.6804697156983931\n"
          ]
        }
      ]
    },
    {
      "cell_type": "markdown",
      "source": [
        "Although the accuracy obtained by the basic model is meaningful in the area of sports analytics, we will output the parameters of the model to further explore how we can refine it to improve its accuracy"
      ],
      "metadata": {
        "id": "kgL0P6lbfX1n"
      }
    },
    {
      "cell_type": "code",
      "source": [
        "# Check parameters of our LR\n",
        "pprint(lr.get_params())\n",
        "lr.get_params().keys()"
      ],
      "metadata": {
        "id": "376hGpZeeI8H",
        "colab": {
          "base_uri": "https://localhost:8080/"
        },
        "outputId": "03e66470-29ac-41b1-99f1-d1ba7655ec9d"
      },
      "execution_count": 36,
      "outputs": [
        {
          "output_type": "stream",
          "name": "stdout",
          "text": [
            "{'C': 1.0,\n",
            " 'class_weight': None,\n",
            " 'dual': False,\n",
            " 'fit_intercept': True,\n",
            " 'intercept_scaling': 1,\n",
            " 'l1_ratio': None,\n",
            " 'max_iter': 100,\n",
            " 'multi_class': 'auto',\n",
            " 'n_jobs': None,\n",
            " 'penalty': 'l2',\n",
            " 'random_state': 1018,\n",
            " 'solver': 'lbfgs',\n",
            " 'tol': 0.0001,\n",
            " 'verbose': 0,\n",
            " 'warm_start': False}\n"
          ]
        },
        {
          "output_type": "execute_result",
          "data": {
            "text/plain": [
              "dict_keys(['C', 'class_weight', 'dual', 'fit_intercept', 'intercept_scaling', 'l1_ratio', 'max_iter', 'multi_class', 'n_jobs', 'penalty', 'random_state', 'solver', 'tol', 'verbose', 'warm_start'])"
            ]
          },
          "metadata": {},
          "execution_count": 36
        }
      ]
    },
    {
      "cell_type": "markdown",
      "source": [
        "As shown in the previous section, it is often possible to refine the model by tuning its hyperparameters. To do so, we run a RandomizedSearchCV to identify the best parameters for our Logistic Regression. "
      ],
      "metadata": {
        "id": "8ktfRoNGejiA"
      }
    },
    {
      "cell_type": "code",
      "source": [
        "# Running RandomizedSearchCV with a custom parameter grid to find best parameters for our LR\n",
        "from sklearn.model_selection import RandomizedSearchCV\n",
        "\n",
        "# Defining parameters\n",
        "penalty = ['l1', 'l2', 'elasticnet', 'none'] # Lasso, Ridge, Elastic Net, No penalty \n",
        "solver = ['lbfgs', 'liblinear', 'saga']\n",
        "max_iter = [50, 100, 250, 500]\n",
        "C = [0.25, 0.5, 1.0, 1.5, 2]\n",
        "\n",
        "\n",
        "# Create the parameter grid\n",
        "param_grid = {\n",
        "    'penalty': penalty, \n",
        "    'solver': solver, \n",
        "    'max_iter':max_iter, \n",
        "    'C':C\n",
        "}\n",
        "\n",
        "# Now that our grid is defined we can use RandomizedSearchCV to search for the best fitting model given each combination of the parameters described\n",
        "lr = LogisticRegression()\n",
        "lr_search = RandomizedSearchCV(estimator = lr, param_distributions = param_grid, n_iter = 100, cv = 3,\n",
        "                               n_jobs = -1, random_state = 1018)\n",
        "\n",
        "lr_search.fit(x_train, y_train)"
      ],
      "metadata": {
        "id": "2jztRjRXgxu4",
        "colab": {
          "base_uri": "https://localhost:8080/"
        },
        "outputId": "cde41d6c-8d2e-42de-b2ef-a1de6eab3f39"
      },
      "execution_count": 37,
      "outputs": [
        {
          "output_type": "execute_result",
          "data": {
            "text/plain": [
              "RandomizedSearchCV(cv=3, estimator=LogisticRegression(), n_iter=100, n_jobs=-1,\n",
              "                   param_distributions={'C': [0.25, 0.5, 1.0, 1.5, 2],\n",
              "                                        'max_iter': [50, 100, 250, 500],\n",
              "                                        'penalty': ['l1', 'l2', 'elasticnet',\n",
              "                                                    'none'],\n",
              "                                        'solver': ['lbfgs', 'liblinear',\n",
              "                                                   'saga']},\n",
              "                   random_state=1018)"
            ]
          },
          "metadata": {},
          "execution_count": 37
        }
      ]
    },
    {
      "cell_type": "code",
      "source": [
        "lr_search.best_params_"
      ],
      "metadata": {
        "id": "xTtFHO-Bl8ZN",
        "colab": {
          "base_uri": "https://localhost:8080/"
        },
        "outputId": "80d65391-c806-41af-f774-fa1679d4767c"
      },
      "execution_count": 38,
      "outputs": [
        {
          "output_type": "execute_result",
          "data": {
            "text/plain": [
              "{'solver': 'liblinear', 'penalty': 'l1', 'max_iter': 50, 'C': 1.0}"
            ]
          },
          "metadata": {},
          "execution_count": 38
        }
      ]
    },
    {
      "cell_type": "markdown",
      "source": [
        "The best parameters above suggest a Lasso regression as the best fit for our data"
      ],
      "metadata": {
        "id": "5NnV_CTJfu3L"
      }
    },
    {
      "cell_type": "code",
      "source": [
        "# Run Logistic Regression again with best parameters\n",
        "lr_best = LogisticRegression(penalty = 'l1', C = 0.5, solver = 'liblinear', max_iter = 50, random_state = 1018)\n",
        "lr_best.fit(x_train, y_train)\n",
        "y_pred_lr_best = lr_best.predict(x_test)\n",
        "\n",
        "# Print accuracy vs. test set\n",
        "print(metrics.accuracy_score(y_test, y_pred_lr_best))"
      ],
      "metadata": {
        "id": "0WfWL4uYm8ch",
        "colab": {
          "base_uri": "https://localhost:8080/"
        },
        "outputId": "300abe26-353d-4fc6-ea45-b729cbfe5084"
      },
      "execution_count": 39,
      "outputs": [
        {
          "output_type": "stream",
          "name": "stdout",
          "text": [
            "0.688504326328801\n"
          ]
        }
      ]
    },
    {
      "cell_type": "markdown",
      "source": [
        "Running our Logistic Regression with the best parameters found by the RandomizedSearchCV increased accuracy to ~69%"
      ],
      "metadata": {
        "id": "-5Xkc1vho_kS"
      }
    },
    {
      "cell_type": "markdown",
      "source": [
        "## 4.4. Naive Bayes Model"
      ],
      "metadata": {
        "id": "0TseO401Vvp1"
      }
    },
    {
      "cell_type": "markdown",
      "source": [
        "The underlying assumption of the Naive Bayes’ Model is that the input features are independent of one another. This is an unrealistic assumption, no matter the data set, but it is something that we acknowledge. We believe that our features are still appropriate to be used in this setting. \n",
        "\n",
        "We followed a very simple process using the sk.learn naive bayes package.\n"
      ],
      "metadata": {
        "id": "of5xRKaMga1v"
      }
    },
    {
      "cell_type": "code",
      "source": [
        "from sklearn.naive_bayes import GaussianNB\n",
        "\n",
        "gnb = GaussianNB()\n",
        "y_pred_nb = gnb.fit(x_train, y_train).predict(x_test)\n",
        "\n",
        "print('Accuracy Score:', metrics.accuracy_score(y_test, y_pred_nb))\n",
        "print(y_pred_nb)"
      ],
      "metadata": {
        "id": "Cia3ThxOV1Pb",
        "colab": {
          "base_uri": "https://localhost:8080/"
        },
        "outputId": "3fae3b73-f367-4feb-cb3f-db45934cf5fb"
      },
      "execution_count": 40,
      "outputs": [
        {
          "output_type": "stream",
          "name": "stdout",
          "text": [
            "Accuracy Score: 0.6790276060980635\n",
            "[0 1 1 ... 1 0 1]\n"
          ]
        }
      ]
    },
    {
      "cell_type": "markdown",
      "source": [
        "## 4.5. Comparing Model Outcomes: Confusion Matrices\n"
      ],
      "metadata": {
        "id": "psWuESSMhdyY"
      }
    },
    {
      "cell_type": "markdown",
      "source": [
        "As shown in the previous sections, the models performed better with the custom hyperparameters found by the Randomized Search. Comparing our models' accuracy, we can assert that the Random Forest model performed the best, with an accuracy of 69.26%, followed closely by the Logistic Regression model, with an accuracy of 69.08%. In third place came our Naive Bayes model, both in accuracy (67.45%) and complexity, but still reflected a satisfactory level of accuracy in the context of sports analytics."
      ],
      "metadata": {
        "id": "FV9Xgr_MiCNj"
      }
    },
    {
      "cell_type": "markdown",
      "source": [
        "Below we plot the confusion matrices from the predictions from each of these three models compared to the test set to visualize the number of false positives and false negatives"
      ],
      "metadata": {
        "id": "qWpMYOvtjOw8"
      }
    },
    {
      "cell_type": "code",
      "source": [
        "from sklearn.metrics import ConfusionMatrixDisplay\n",
        "\n",
        "# Random Forest \n",
        "ConfusionMatrixDisplay.from_predictions(y_test, y_pred_rf_best)"
      ],
      "metadata": {
        "id": "3ng6Vvd2Tdtk",
        "colab": {
          "base_uri": "https://localhost:8080/",
          "height": 296
        },
        "outputId": "d33a4df7-c3b3-417e-e6b4-29c14edc9c44"
      },
      "execution_count": 41,
      "outputs": [
        {
          "output_type": "execute_result",
          "data": {
            "text/plain": [
              "<sklearn.metrics._plot.confusion_matrix.ConfusionMatrixDisplay at 0x7fc6ebf61fd0>"
            ]
          },
          "metadata": {},
          "execution_count": 41
        },
        {
          "output_type": "display_data",
          "data": {
            "text/plain": [
              "<Figure size 432x288 with 2 Axes>"
            ],
            "image/png": "[encoded data removed]"
          },
          "metadata": {
            "needs_background": "light"
          }
        }
      ]
    },
    {
      "cell_type": "code",
      "source": [
        "# Logistic Regression\n",
        "ConfusionMatrixDisplay.from_predictions(y_test, y_pred_lr_best)"
      ],
      "metadata": {
        "id": "E--e24zFUQgc",
        "colab": {
          "base_uri": "https://localhost:8080/",
          "height": 296
        },
        "outputId": "f4591003-4ab5-476a-f7ea-b8f4351229f4"
      },
      "execution_count": 42,
      "outputs": [
        {
          "output_type": "execute_result",
          "data": {
            "text/plain": [
              "<sklearn.metrics._plot.confusion_matrix.ConfusionMatrixDisplay at 0x7fc6efd628d0>"
            ]
          },
          "metadata": {},
          "execution_count": 42
        },
        {
          "output_type": "display_data",
          "data": {
            "text/plain": [
              "<Figure size 432x288 with 2 Axes>"
            ],
            "image/png": "[encoded data removed]"
          },
          "metadata": {
            "needs_background": "light"
          }
        }
      ]
    },
    {
      "cell_type": "code",
      "source": [
        "# Naive Bayes\n",
        "ConfusionMatrixDisplay.from_predictions(y_test, y_pred_nb)"
      ],
      "metadata": {
        "id": "0VGIICBQUScJ",
        "colab": {
          "base_uri": "https://localhost:8080/",
          "height": 296
        },
        "outputId": "62d16bb5-4d00-4b0d-dd8f-3350a258674a"
      },
      "execution_count": 43,
      "outputs": [
        {
          "output_type": "execute_result",
          "data": {
            "text/plain": [
              "<sklearn.metrics._plot.confusion_matrix.ConfusionMatrixDisplay at 0x7fc6efdc0990>"
            ]
          },
          "metadata": {},
          "execution_count": 43
        },
        {
          "output_type": "display_data",
          "data": {
            "text/plain": [
              "<Figure size 432x288 with 2 Axes>"
            ],
            "image/png": "[encoded data removed]"
          },
          "metadata": {
            "needs_background": "light"
          }
        }
      ]
    },
    {
      "cell_type": "markdown",
      "source": [
        "# Part 5: Description of Challenges / Obstacles Faced"
      ],
      "metadata": {
        "id": "a2TNhdjWMeuZ"
      }
    },
    {
      "cell_type": "markdown",
      "source": [
        "The first challenge that we faced was deciding how we could best leverage our original raw data set to achieve our goal. All of the data we had originally was presented in a game by game basis. Inherently, this would cause our subsequent models to be more naïve in that it failed to include other variables that affect game by game performance by only considering single instances. Any sports fan would know that sometimes a teams performance is best reflected by the state of the team at that point and time, whether it be an increase or decrease in chemistry, a star-player not playing, or any other of the moving factors that affect team performance in any given game. This is what motivated us to decide on calculating moving averages for each of our original features to use in our data exploration throughout this project. \n",
        "By using moving averages, one can better understand how a team is performing at any given point in the season while mitigating the risk of a single “off-game” or player injury from skewing the data as an outlier. Overall, by using moving averages we were able to ensure that our features took a more wholistic approach in assessing team performance over ten-game stretches without diluting the value that the raw data provided us with in the first place. \n",
        "\n",
        "The second, and more difficult, challenge that we faced was putting our new feature idea into effect. After spending much time brainstorming, we developed a function to achieve our goal to produce these 10-day moving averages. The problem that we faced was that we did not know how to account for the inclusion of both home and away performances for each team in our average as their TEAM_ID appeared in both the Home Team and Away Team columns. In our first attempt, we defined a function that called a “for” loop to extract the distinct home and away team ID’s using a Team ID list as reference along with the metric in question. After each team’s total performances with respect to this metric were extracted into home and away data frames, we performed a merge and sorted the instances by date. After this process was completed for each team, we tried to concatenate the current team moving average stats to the rest of the teams already calculated in the temp data frame. Lastly, we made a copy of team_game_stats and merged our temporary data frame with the existing columns, adding the _MA10 column corresponding to home and away teams. To our dismay, this did not work as it immediately overwhelmed the allocated RAM in our Colab session. We needed to find another way, and we did.\n",
        "\n",
        " Below we will attach an image of our original code to show our thought process during the early stages of this step:\n"
      ],
      "metadata": {
        "id": "sAVLJIU_Y8BP"
      }
    },
    {
      "cell_type": "markdown",
      "source": [
        " ![Screen Shot 2021-12-15 at 9.50.47 PM.png](data:image/png;base64,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)"
      ],
      "metadata": {
        "id": "7lXGz6DTg9ob"
      }
    },
    {
      "cell_type": "markdown",
      "source": [
        "# Part 6: Potential Next Steps / Future Direction "
      ],
      "metadata": {
        "id": "fAILQ0iAMoC1"
      }
    },
    {
      "cell_type": "markdown",
      "source": [
        "Overall, we were quite happy with the consistent success our models exhibited as each model was within the 67-69% accuracy range, with our tuned random forest model being the most accurate. We were excited to see that the best published projects that had a similar objective to ours were able to predict with about 75% accuracy. It was both a fun and engaging learning experience to have been able to construct models with such accuracy solely utilizing the skills that we garnered over this past semester under the instruction of both Professor Ives and our TA’s (Thank you!). Moreover, Iván and I are looking forward to using our model recreationally the next time we are having trouble deciding which team is going to win on any given night. However, despite our successes, there is always room for improvement. \n",
        "\n",
        "One next step that we would see ourselves going in is exploring other features to include in our model. Currently our models only include moving average game statistics; however, it would be interesting to see if there would be an effective way to include performance of key players, such as your Steph Curry’s and LeBron’s into the model to better predict the performance of each team. From being basketball fans ourselves, it is clear that most teams have key players who can single-handedly effect the outcome of any given game and we believe that including these statistics could make for slightly more accurate models. \n",
        "\n",
        "Another step would be to explore more models in our analyses. This includes, but is not limited to, convolutional networks and SGD classifiers. However, we were very pleased with the result of our tuned Random Forest model that proved to be 70% accurate against our testing data, despite the fact that this model was by far the most computationally expensive. \n",
        "\n",
        "We hope that you enjoyed our project and we look forward to using these useful skills in the future, however that may be. \n"
      ],
      "metadata": {
        "id": "4mzNd9lPgfb-"
      }
    }
  ]
}